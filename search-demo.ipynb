{
 "cells": [
  {
   "cell_type": "code",
   "execution_count": 1,
   "id": "revolutionary-avatar",
   "metadata": {},
   "outputs": [],
   "source": [
    "from analysis import Searcher\n",
    "from tabulate import tabulate"
   ]
  },
  {
   "cell_type": "code",
   "execution_count": 2,
   "id": "great-filter",
   "metadata": {},
   "outputs": [],
   "source": [
    "svd_filename = 'searcher_svds.npz'\n",
    "vocabulary_filename = 'vocabulary.gz'\n",
    "web_table_filename = 'web.csv'"
   ]
  },
  {
   "cell_type": "code",
   "execution_count": 3,
   "id": "younger-hydrogen",
   "metadata": {},
   "outputs": [
    {
     "name": "stdout",
     "output_type": "stream",
     "text": [
      "loading...\n"
     ]
    }
   ],
   "source": [
    "print(\"loading...\")\n",
    "searcher = Searcher.load(\n",
    "    svd_filename,\n",
    "    vocabulary_filename,\n",
    "    web_table_filename\n",
    ")"
   ]
  },
  {
   "cell_type": "code",
   "execution_count": null,
   "id": "genetic-hollow",
   "metadata": {},
   "outputs": [],
   "source": [
    "# searcher.search('机器学习 数据挖掘')"
   ]
  },
  {
   "cell_type": "code",
   "execution_count": null,
   "id": "mediterranean-combat",
   "metadata": {},
   "outputs": [],
   "source": []
  }
 ],
 "metadata": {
  "kernelspec": {
   "display_name": "Python 3",
   "language": "python",
   "name": "python3"
  },
  "language_info": {
   "codemirror_mode": {
    "name": "ipython",
    "version": 3
   },
   "file_extension": ".py",
   "mimetype": "text/x-python",
   "name": "python",
   "nbconvert_exporter": "python",
   "pygments_lexer": "ipython3",
   "version": "3.8.7"
  }
 },
 "nbformat": 4,
 "nbformat_minor": 5
}
