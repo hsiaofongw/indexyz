{
 "cells": [
  {
   "cell_type": "markdown",
   "metadata": {},
   "source": [
    "验证 term-document-matrix 有没有算对"
   ]
  },
  {
   "cell_type": "code",
   "execution_count": 14,
   "metadata": {},
   "outputs": [],
   "source": [
    "import pandas as pd"
   ]
  },
  {
   "cell_type": "code",
   "execution_count": 58,
   "metadata": {},
   "outputs": [],
   "source": [
    "import numpy as np"
   ]
  },
  {
   "cell_type": "code",
   "execution_count": 61,
   "metadata": {},
   "outputs": [],
   "source": [
    "doc_matrix = np.loadtxt(\n",
    "    fname = 'termdocmatrix/matrix.txt', \n",
    "    dtype='int', \n",
    "    delimiter=','\n",
    ")"
   ]
  },
  {
   "cell_type": "code",
   "execution_count": 17,
   "metadata": {},
   "outputs": [],
   "source": [
    "index_to_word = pd.read_csv('termdocmatrix/index_to_word.csv')"
   ]
  },
  {
   "cell_type": "code",
   "execution_count": 20,
   "metadata": {},
   "outputs": [],
   "source": [
    "index_to_article = pd.read_csv('termdocmatrix/index_to_article.csv')"
   ]
  },
  {
   "cell_type": "code",
   "execution_count": 89,
   "metadata": {},
   "outputs": [
    {
     "name": "stdout",
     "output_type": "stream",
     "text": [
      "Checked: 4sum-problem-branch-and-bound-solution.md\n",
      "Checked: a-layout-algorithm-for-equal-returns.md\n",
      "Checked: add-your-site-cache-control.md\n",
      "Checked: association-rules-mining-and-apriori-algorithm.md\n",
      "Checked: authorship-homogeneous-test-based-on-text-segmenation-and-chi-squared-test.md\n",
      "Checked: aws-budget-bill-alert.md\n",
      "Checked: bot-stage-one.md\n",
      "Checked: cdn-deployment.md\n",
      "Checked: cellular-automata-infectious-disease-simulation.md\n",
      "Checked: complex-plane-and-eulers-formular-and-liuhuis-pi-algorithm.md\n",
      "Checked: construct-arbitary-distribution-from-arbitary-distribution.md\n",
      "Checked: cookies-and-session.md\n",
      "Checked: correct-time-in-cloudcone-vps.md\n",
      "Checked: crontab-tutorial.md\n",
      "Checked: drawing-figures.md\n",
      "Checked: dynamic-programming-intro.md\n",
      "Checked: eight-queen-problem.md\n",
      "Checked: envisioning-an-larger-blogging-system.md\n",
      "Checked: everything-begins-at-flipping-coins.md\n",
      "Checked: favicon-problem.md\n",
      "Checked: feature-request-scripts-hub.md\n",
      "Checked: floating-number-representation.md\n",
      "Checked: from-perceptron-to-neuralnet.md\n",
      "Checked: generate-parentheses-base-on-desicion-procedures.md\n",
      "Checked: hello-gitbook.md\n",
      "Checked: how-fast.md\n",
      "Checked: how-to-ensure-the-validity-of-email-sender-address.md\n",
      "Checked: hugo-remove-tags-in-sitemap.md\n",
      "Checked: hugo-shortcode-svg.md\n",
      "Checked: if-migrate-to-linux-from-current-mac.md\n",
      "Checked: implementing-a-rubkis-cube-in-mathematica.md\n",
      "Checked: interested-at.md\n",
      "Checked: intro-lighthouse.md\n",
      "Checked: introducing-links-management-system.md\n",
      "Checked: introducing-my-new-project.md\n",
      "Checked: json-parser-intro.md\n",
      "Checked: ksumproblem.md\n",
      "Checked: learn-svg.md\n",
      "Checked: learning-language-interoperability-and-linking.md\n",
      "Checked: leetcode-rotate-image.md\n",
      "Checked: linux-tools-recommendation-1.md\n",
      "Checked: little-trick-about-using-github.md\n",
      "Checked: longest-common-prefix-n-ary-tree-solution.md\n",
      "Checked: longest-substring-no-repeating.md\n",
      "Checked: macos-path.md\n",
      "Checked: merge-two-sorted-array.md\n",
      "Checked: methods-telling-if-a-point-is-inside-some-polygon.md\n",
      "Checked: minimum-gulp-workspace.md\n",
      "Checked: mongo-db-mac-os-tutorial.md\n",
      "Checked: my-first-github-pr-2.md\n",
      "Checked: my-first-github-pr-3.md\n",
      "Checked: my-first-github-pr-4.md\n",
      "Checked: my-first-github-pr.md\n",
      "Checked: n-consecutive-integers-divisible-by-n-factorial.md\n",
      "Checked: new-changes-in-beyondstars-20-07-04.md\n",
      "Checked: openssl-certificates.md\n",
      "Checked: planets-trajectory.md\n",
      "Checked: preliminary-technical-articles-standards.md\n",
      "Checked: project-progresses.md\n",
      "Checked: recent-focus-20-05-17.md\n",
      "Checked: release-a-huge-disk-space-in-macos.md\n",
      "Checked: rfc7234-read-and-think.md\n",
      "Checked: simulate-star-motion-in-mathematica.md\n",
      "Checked: site-advancing.md\n",
      "Checked: site-building.md\n",
      "Checked: solving-maximum-subarray.md\n",
      "Checked: sudoku-mathematical-formulation.md\n",
      "Checked: sum-of-arbitary-power-of-k.md\n",
      "Checked: symlink-vs-harlink.md\n",
      "Checked: talk-about-my-recent-doings.md\n",
      "Checked: telling-static-file-accelerating-and-whole-site-accelerating.md\n",
      "Checked: traceroute-introduction.md\n",
      "Checked: vscode-linting.md\n"
     ]
    }
   ],
   "source": [
    "for i in range(0, doc_matrix.shape[0]):\n",
    "    article_name = index_to_article.iloc[i, 1]\n",
    "    stats[article_name] = dict()\n",
    "    for j in range(0, doc_matrix.shape[1]):\n",
    "        word = index_to_word.iloc[j, 1]\n",
    "        count = doc_matrix[i, j]\n",
    "        if count > 0:\n",
    "            stats[article_name][word] = count\n",
    "            \n",
    "    summary_file_name = 'summaries/summary-of-'+article_name+'.csv'\n",
    "    summary = pd.read_csv(summary_file_name)\n",
    "    somethingwrong = False\n",
    "    for k in range(0, summary.shape[0]):\n",
    "        word = summary.iloc[k, 0]\n",
    "        \n",
    "        pre_calculated_count = summary.iloc[k, 1]\n",
    "        just_calculated_count = stats[article_name][word]\n",
    "        \n",
    "        if pre_calculated_count != just_calculated_count:\n",
    "            print('At: ' + article_name)\n",
    "            print('Pre: ' + str(pre_calculated_count))\n",
    "            print('Just: '+ str(just_calculated_count))\n",
    "            somethingwrong = True\n",
    "    \n",
    "    if not somethingwrong:\n",
    "        print('Checked: ' + article_name)"
   ]
  },
  {
   "cell_type": "code",
   "execution_count": null,
   "metadata": {},
   "outputs": [],
   "source": []
  }
 ],
 "metadata": {
  "kernelspec": {
   "display_name": "Python 3",
   "language": "python",
   "name": "python3"
  },
  "language_info": {
   "codemirror_mode": {
    "name": "ipython",
    "version": 3
   },
   "file_extension": ".py",
   "mimetype": "text/x-python",
   "name": "python",
   "nbconvert_exporter": "python",
   "pygments_lexer": "ipython3",
   "version": "3.8.3"
  }
 },
 "nbformat": 4,
 "nbformat_minor": 4
}
