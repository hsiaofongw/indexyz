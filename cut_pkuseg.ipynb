{
 "cells": [
  {
   "cell_type": "code",
   "execution_count": 30,
   "metadata": {},
   "outputs": [],
   "source": [
    "import pkuseg\n",
    "import os\n",
    "import pandas as pd\n",
    "import numpy as np\n",
    "from tqdm import tqdm\n",
    "\n",
    "seg = pkuseg.pkuseg()"
   ]
  },
  {
   "cell_type": "code",
   "execution_count": 31,
   "metadata": {},
   "outputs": [],
   "source": [
    "article_names = os.listdir('data')"
   ]
  },
  {
   "cell_type": "code",
   "execution_count": 32,
   "metadata": {},
   "outputs": [],
   "source": [
    "article_contents = list()\n",
    "for article_name in article_names:\n",
    "    file_name = 'data/' + article_name\n",
    "    file = open(file_name, 'r')\n",
    "    article_content = file.read()\n",
    "    file.close()\n",
    "    article_contents.append(article_content)"
   ]
  },
  {
   "cell_type": "code",
   "execution_count": 33,
   "metadata": {},
   "outputs": [
    {
     "name": "stderr",
     "output_type": "stream",
     "text": [
      "100%|██████████| 73/73 [00:18<00:00,  3.93it/s]\n"
     ]
    }
   ],
   "source": [
    "article_words = list()\n",
    "for i in tqdm(range(len(article_contents))):\n",
    "    article_content = article_contents[i]\n",
    "    words = seg.cut(article_content)\n",
    "    article_words.append(words)"
   ]
  },
  {
   "cell_type": "code",
   "execution_count": 34,
   "metadata": {},
   "outputs": [],
   "source": [
    "def counter(l: list) -> dict:\n",
    "    stats = dict()\n",
    "    for i in range(len(l)):\n",
    "        item = l[i]\n",
    "        if item not in stats:\n",
    "            stats[item] = 1\n",
    "        else:\n",
    "            stats[item] = stats[item] + 1\n",
    "    \n",
    "    return stats"
   ]
  },
  {
   "cell_type": "code",
   "execution_count": 35,
   "metadata": {},
   "outputs": [
    {
     "name": "stderr",
     "output_type": "stream",
     "text": [
      "100%|██████████| 73/73 [00:00<00:00, 714.13it/s]\n"
     ]
    }
   ],
   "source": [
    "article_stats = list()\n",
    "for i in tqdm(range(len(article_words))):\n",
    "    article_stats.append(counter(article_words[i]))"
   ]
  },
  {
   "cell_type": "code",
   "execution_count": 36,
   "metadata": {},
   "outputs": [
    {
     "name": "stderr",
     "output_type": "stream",
     "text": [
      "100%|██████████| 73/73 [00:00<00:00, 2145.72it/s]\n"
     ]
    }
   ],
   "source": [
    "all_term_stats = dict()\n",
    "for i in tqdm(range(len(article_stats))):\n",
    "    article_stat = article_stats[i]\n",
    "    for word, count in article_stat.items():\n",
    "        if word not in all_term_stats:\n",
    "            all_term_stats[word] = count\n",
    "        else:\n",
    "            all_term_stats[word] = all_term_stats[word] + count"
   ]
  },
  {
   "cell_type": "code",
   "execution_count": 37,
   "metadata": {},
   "outputs": [],
   "source": [
    "all_term_vector = list(all_term_stats.keys())"
   ]
  },
  {
   "cell_type": "code",
   "execution_count": 38,
   "metadata": {},
   "outputs": [
    {
     "name": "stderr",
     "output_type": "stream",
     "text": [
      "100%|██████████| 73/73 [00:00<00:00, 180.62it/s]\n"
     ]
    }
   ],
   "source": [
    "doc_matrix = list()\n",
    "for i in tqdm(range(len(article_stats))):\n",
    "    stat_of_this_article = article_stats[i]\n",
    "    doc_matrix_row = list()\n",
    "    for term in all_term_vector:\n",
    "        if term in stat_of_this_article:\n",
    "            count = stat_of_this_article[term]\n",
    "        else:\n",
    "            count = 0\n",
    "        doc_matrix_row.append(count)\n",
    "    \n",
    "    doc_matrix.append(doc_matrix_row)"
   ]
  },
  {
   "cell_type": "code",
   "execution_count": 39,
   "metadata": {},
   "outputs": [
    {
     "data": {
      "text/plain": [
       "73"
      ]
     },
     "execution_count": 39,
     "metadata": {},
     "output_type": "execute_result"
    }
   ],
   "source": [
    "len(doc_matrix)"
   ]
  },
  {
   "cell_type": "code",
   "execution_count": 40,
   "metadata": {},
   "outputs": [
    {
     "data": {
      "text/plain": [
       "14992"
      ]
     },
     "execution_count": 40,
     "metadata": {},
     "output_type": "execute_result"
    }
   ],
   "source": [
    "len(doc_matrix[0])"
   ]
  },
  {
   "cell_type": "code",
   "execution_count": 41,
   "metadata": {},
   "outputs": [],
   "source": [
    "article_indexes = pd.DataFrame({\n",
    "    'article_name': article_names,\n",
    "    'row_num_in_doc_matrix': range(len(article_names))\n",
    "})"
   ]
  },
  {
   "cell_type": "code",
   "execution_count": 42,
   "metadata": {},
   "outputs": [],
   "source": [
    "term_indexes = pd.DataFrame({\n",
    "    'term': all_term_vector,\n",
    "    'col_num_in_doc_matrix': range(len(all_term_vector))\n",
    "})"
   ]
  },
  {
   "cell_type": "code",
   "execution_count": 43,
   "metadata": {},
   "outputs": [],
   "source": [
    "article_indexes.to_csv('termdocmatrix/article_indexes.csv', index=False)"
   ]
  },
  {
   "cell_type": "code",
   "execution_count": 44,
   "metadata": {},
   "outputs": [],
   "source": [
    "term_indexes.to_csv('termdocmatrix/term_indexes.csv', index=False)"
   ]
  },
  {
   "cell_type": "code",
   "execution_count": 45,
   "metadata": {},
   "outputs": [],
   "source": [
    "np.savetxt(\n",
    "    fname = 'termdocmatrix/doc_matrix.txt',\n",
    "    X = np.array(doc_matrix).astype(int),\n",
    "    delimiter = ',',\n",
    "    newline = '\\n',\n",
    "    fmt = '%u'\n",
    ")"
   ]
  }
 ],
 "metadata": {
  "kernelspec": {
   "display_name": "Python 3",
   "language": "python",
   "name": "python3"
  },
  "language_info": {
   "codemirror_mode": {
    "name": "ipython",
    "version": 3
   },
   "file_extension": ".py",
   "mimetype": "text/x-python",
   "name": "python",
   "nbconvert_exporter": "python",
   "pygments_lexer": "ipython3",
   "version": "3.8.5"
  }
 },
 "nbformat": 4,
 "nbformat_minor": 4
}
