{
 "cells": [
  {
   "cell_type": "code",
   "execution_count": 2,
   "id": "fixed-stadium",
   "metadata": {},
   "outputs": [],
   "source": [
    "import numpy as np\n",
    "from scipy import sparse\n",
    "from typing import List, Dict\n",
    "from tqdm import tqdm\n",
    "from tabulate import tabulate\n",
    "import pandas\n",
    "from typing import Tuple"
   ]
  },
  {
   "cell_type": "code",
   "execution_count": 11,
   "id": "enhanced-plymouth",
   "metadata": {},
   "outputs": [],
   "source": [
    "from analysis import compute_tf_idf"
   ]
  },
  {
   "cell_type": "code",
   "execution_count": 100,
   "id": "missing-armenia",
   "metadata": {},
   "outputs": [],
   "source": [
    "from scipy.sparse.linalg import svds"
   ]
  },
  {
   "cell_type": "code",
   "execution_count": 12,
   "id": "dirty-assurance",
   "metadata": {},
   "outputs": [],
   "source": [
    "from analysis import NameSpace"
   ]
  },
  {
   "cell_type": "code",
   "execution_count": 13,
   "id": "valid-frost",
   "metadata": {},
   "outputs": [],
   "source": [
    "txt_path = './data/rmrb.txt'"
   ]
  },
  {
   "cell_type": "code",
   "execution_count": 14,
   "id": "active-midwest",
   "metadata": {},
   "outputs": [],
   "source": [
    "from loader import read_articles_from_txt"
   ]
  },
  {
   "cell_type": "code",
   "execution_count": 15,
   "id": "african-clock",
   "metadata": {},
   "outputs": [
    {
     "name": "stdout",
     "output_type": "stream",
     "text": [
      "opening ./data/rmrb.txt\n",
      "Found: 中共中央印发中国共产党地方组织选举工作条例 , length: 510\n",
      "Found: 中共中央致电祝贺朝鲜劳动党八大召开 , length: 477\n",
      "Found: 农业科技进步贡献率超60%农业农村现代化迈上新台阶 , length: 1647\n",
      "Found: 提高新时代地方党组织选举质量的制度保证 , length: 1335\n",
      "Found: 全国宣传部长会议在京召开王沪宁出席并讲话 , length: 843\n",
      "Found: 通海蔬菜远销海外 , length: 1172\n",
      "Found: 复兴号高寒动车组亮相 , length: 189\n",
      "Found: 胡春华强调立足新发展阶段推动农民工工作取得更大成就 , length: 513\n",
      "Found: 国办印发《意见》进一步优化地方政务服务便民热线 , length: 1080\n",
      "Found: 民生欢歌，旋律更高昂 , length: 2196\n",
      "Found: 推动住房和城乡建设事业高质量发展 , length: 2406\n",
      "Found 11 articles.\n"
     ]
    }
   ],
   "source": [
    "names, contents = read_articles_from_txt(txt_path)"
   ]
  },
  {
   "cell_type": "code",
   "execution_count": 16,
   "id": "about-tissue",
   "metadata": {},
   "outputs": [],
   "source": [
    "from cut import make_articles_from_contents"
   ]
  },
  {
   "cell_type": "code",
   "execution_count": 17,
   "id": "historic-consciousness",
   "metadata": {},
   "outputs": [
    {
     "name": "stderr",
     "output_type": "stream",
     "text": [
      "100%|██████████| 11/11 [00:00<00:00, 12.03it/s]\n"
     ]
    }
   ],
   "source": [
    "articles = make_articles_from_contents(names, contents)"
   ]
  },
  {
   "cell_type": "code",
   "execution_count": 18,
   "id": "seven-choice",
   "metadata": {},
   "outputs": [
    {
     "data": {
      "text/plain": [
       "[Article(name=中共中央印发中国共产党地方组织选举工作条例, n_terms=311),\n",
       " Article(name=中共中央致电祝贺朝鲜劳动党八大召开, n_terms=281),\n",
       " Article(name=农业科技进步贡献率超60%农业农村现代化迈上新台阶, n_terms=903),\n",
       " Article(name=提高新时代地方党组织选举质量的制度保证, n_terms=772),\n",
       " Article(name=全国宣传部长会议在京召开王沪宁出席并讲话, n_terms=468),\n",
       " Article(name=通海蔬菜远销海外, n_terms=664),\n",
       " Article(name=复兴号高寒动车组亮相, n_terms=103),\n",
       " Article(name=胡春华强调立足新发展阶段推动农民工工作取得更大成就, n_terms=278),\n",
       " Article(name=国办印发《意见》进一步优化地方政务服务便民热线, n_terms=606),\n",
       " Article(name=民生欢歌，旋律更高昂, n_terms=1271),\n",
       " Article(name=推动住房和城乡建设事业高质量发展, n_terms=1389)]"
      ]
     },
     "execution_count": 18,
     "metadata": {},
     "output_type": "execute_result"
    }
   ],
   "source": [
    "articles"
   ]
  },
  {
   "cell_type": "code",
   "execution_count": 19,
   "id": "lined-gambling",
   "metadata": {},
   "outputs": [],
   "source": [
    "ns = NameSpace()"
   ]
  },
  {
   "cell_type": "code",
   "execution_count": 20,
   "id": "suitable-young",
   "metadata": {},
   "outputs": [],
   "source": [
    "ns.add_articles(articles)"
   ]
  },
  {
   "cell_type": "code",
   "execution_count": 21,
   "id": "empty-strategy",
   "metadata": {},
   "outputs": [],
   "source": [
    "doc_matrix = ns.get_term_document_matrix()"
   ]
  },
  {
   "cell_type": "code",
   "execution_count": 23,
   "id": "seven-requirement",
   "metadata": {},
   "outputs": [],
   "source": [
    "tf_idf = compute_tf_idf(doc_matrix)"
   ]
  },
  {
   "cell_type": "code",
   "execution_count": 101,
   "id": "seeing-picking",
   "metadata": {},
   "outputs": [],
   "source": [
    "tf_idf = sparse.csr_matrix(tf_idf)"
   ]
  },
  {
   "cell_type": "code",
   "execution_count": 110,
   "id": "continuing-iraqi",
   "metadata": {},
   "outputs": [],
   "source": [
    "u, s, vh = svds(tf_idf, k=min(tf_idf.shape)-1)"
   ]
  },
  {
   "cell_type": "code",
   "execution_count": 232,
   "id": "electrical-hobby",
   "metadata": {},
   "outputs": [],
   "source": [
    "\n",
    "class Searcher:\n",
    "\n",
    "    def __init__(\n",
    "        self,\n",
    "        svd_u: np.ndarray,\n",
    "        svd_s: np.ndarray,\n",
    "        svd_vh: np.ndarray\n",
    "    ) -> None:\n",
    "        self.u = svd_u.copy()\n",
    "        self.s = np.diag(svd_s)\n",
    "        self.vh = svd_vh.copy()\n",
    "\n",
    "        self.doc_coords = self.u @ self.s\n",
    "    \n",
    "    def pairwise_cosine_similarities(self, xs: np.ndarray, ys: np.ndarray) -> np.ndarray:\n",
    "        n_samples_x = xs.shape[0]\n",
    "        n_samples_y = ys.shape[0]\n",
    "\n",
    "        xs = xs / (np.linalg.norm(xs, axis=1).reshape(n_samples_x, 1))\n",
    "        ys = ys / (np.linalg.norm(ys, axis=1).reshape(n_samples_y, 1))\n",
    "        cosines = xs @ (ys.T)\n",
    "\n",
    "        return cosines\n",
    "    \n",
    "    def sort_index_by_cosine_similarity(self, x: np.ndarray) -> Tuple[np.ndarray, np.ndarray]:\n",
    "        x = np.atleast_2d(x)\n",
    "        if x.shape[0] > x.shape[1]:\n",
    "            x = x.T\n",
    "\n",
    "        cosines = self.pairwise_cosine_similarities(x, self.doc_coords).flatten()\n",
    "        article_indexes = np.arange(0, self.doc_coords.shape[0])\n",
    "        sort_indexes = np.argsort(-cosines)\n",
    "\n",
    "        return (\n",
    "            article_indexes[sort_indexes],\n",
    "            cosines[sort_indexes],\n",
    "        )\n",
    "    \n",
    "    def make_query(self, terms: List[str], term_index: Dict[str, int]) -> np.ndarray:\n",
    "        query_term_indexes = [term_index.get(term, 0) for term in terms]\n",
    "        query_row = np.zeros(shape=(1, self.vh.shape[1],), dtype=np.float32)\n",
    "        query_row[0, query_term_indexes] = 1\n",
    "        query_row = query_row @ self.vh.T\n",
    "\n",
    "        return query_row"
   ]
  },
  {
   "cell_type": "code",
   "execution_count": 233,
   "id": "acknowledged-configuration",
   "metadata": {},
   "outputs": [],
   "source": [
    "u, s, vh = svds(tf_idf, k=min(tf_idf.shape)-1)"
   ]
  },
  {
   "cell_type": "code",
   "execution_count": 234,
   "id": "comparative-coordinator",
   "metadata": {},
   "outputs": [],
   "source": [
    "searcher = Searcher(u, s, vh)"
   ]
  },
  {
   "cell_type": "code",
   "execution_count": 237,
   "id": "gorgeous-valley",
   "metadata": {},
   "outputs": [],
   "source": [
    "q = searcher.make_query(['农机', '小麦', '收成'], ns.term_index)"
   ]
  },
  {
   "cell_type": "code",
   "execution_count": 238,
   "id": "incredible-moderator",
   "metadata": {},
   "outputs": [
    {
     "data": {
      "text/plain": [
       "(array([ 2,  3,  8,  7,  6,  1,  5, 10,  4,  9,  0]),\n",
       " array([ 9.9106801e-01,  7.4726786e-03,  8.2469080e-05,  1.4682300e-05,\n",
       "         5.4128468e-06, -7.7346340e-06, -2.0742737e-05, -3.1686504e-05,\n",
       "        -2.1699129e-04, -5.8697467e-04, -5.4438477e-03], dtype=float32))"
      ]
     },
     "execution_count": 238,
     "metadata": {},
     "output_type": "execute_result"
    }
   ],
   "source": [
    "searcher.sort_index_by_cosine_similarity(q)"
   ]
  },
  {
   "cell_type": "code",
   "execution_count": 3,
   "id": "lonely-lithuania",
   "metadata": {},
   "outputs": [],
   "source": [
    "a = np.array([[1],[2],[3]])"
   ]
  },
  {
   "cell_type": "code",
   "execution_count": 6,
   "id": "opposite-boost",
   "metadata": {},
   "outputs": [],
   "source": [
    "import pymongo\n",
    "\n",
    "def get_db():\n",
    "    dbname = \"indexyz\"\n",
    "    client = pymongo.MongoClient(f\"mongodb://127.0.0.1/{dbname}\")\n",
    "    db = client.indexyz\n",
    "    return db"
   ]
  },
  {
   "cell_type": "code",
   "execution_count": 41,
   "id": "fabulous-dancing",
   "metadata": {},
   "outputs": [],
   "source": [
    "db = get_db()"
   ]
  },
  {
   "cell_type": "code",
   "execution_count": 42,
   "id": "lyric-austin",
   "metadata": {},
   "outputs": [],
   "source": [
    "nss = db.namespaces"
   ]
  },
  {
   "cell_type": "code",
   "execution_count": 49,
   "id": "attractive-separation",
   "metadata": {},
   "outputs": [
    {
     "data": {
      "text/plain": [
       "<pymongo.results.DeleteResult at 0x10534f040>"
      ]
     },
     "execution_count": 49,
     "metadata": {},
     "output_type": "execute_result"
    }
   ],
   "source": [
    "nss.delete_many({})"
   ]
  },
  {
   "cell_type": "code",
   "execution_count": 50,
   "id": "raising-robin",
   "metadata": {},
   "outputs": [],
   "source": [
    "from bson.objectid import ObjectId"
   ]
  },
  {
   "cell_type": "code",
   "execution_count": 68,
   "id": "trying-candy",
   "metadata": {},
   "outputs": [],
   "source": [
    "ns = nss.find_one({'_id': ObjectId('6021e3b2b3b4fb9616915638')})"
   ]
  },
  {
   "cell_type": "code",
   "execution_count": 69,
   "id": "capable-paradise",
   "metadata": {},
   "outputs": [
    {
     "data": {
      "text/plain": [
       "False"
      ]
     },
     "execution_count": 69,
     "metadata": {},
     "output_type": "execute_result"
    }
   ],
   "source": [
    "ns is None"
   ]
  },
  {
   "cell_type": "code",
   "execution_count": null,
   "id": "wired-probe",
   "metadata": {},
   "outputs": [],
   "source": []
  }
 ],
 "metadata": {
  "kernelspec": {
   "display_name": "Python 3",
   "language": "python",
   "name": "python3"
  },
  "language_info": {
   "codemirror_mode": {
    "name": "ipython",
    "version": 3
   },
   "file_extension": ".py",
   "mimetype": "text/x-python",
   "name": "python",
   "nbconvert_exporter": "python",
   "pygments_lexer": "ipython3",
   "version": "3.8.7"
  }
 },
 "nbformat": 4,
 "nbformat_minor": 5
}
