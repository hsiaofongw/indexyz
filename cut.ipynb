{
 "cells": [
  {
   "cell_type": "code",
   "execution_count": 48,
   "metadata": {},
   "outputs": [],
   "source": [
    "import os\n",
    "import jieba\n",
    "import pandas as pd\n",
    "import numpy as np"
   ]
  },
  {
   "cell_type": "code",
   "execution_count": 49,
   "metadata": {},
   "outputs": [],
   "source": [
    "article_names = os.listdir('data')"
   ]
  },
  {
   "cell_type": "code",
   "execution_count": 50,
   "metadata": {},
   "outputs": [],
   "source": [
    "articles = list()\n",
    "for article_name in article_names:\n",
    "    file_name = 'data/' + article_name\n",
    "    article_file = open(file_name, 'r')\n",
    "    article_content = article_file.read()\n",
    "    articles.append(article_content)\n",
    "    article_file.close()"
   ]
  },
  {
   "cell_type": "code",
   "execution_count": 51,
   "metadata": {},
   "outputs": [],
   "source": [
    "all_words = set()\n",
    "\n",
    "def to_word_freq_table(article: str):\n",
    "    \n",
    "    seg_list = jieba.cut(article)\n",
    "    \n",
    "    freq_stat = dict()\n",
    "    for word in seg_list:\n",
    "        \n",
    "        all_words.add(word)\n",
    "        \n",
    "        if not (word in freq_stat):\n",
    "            freq_stat[word] = 1\n",
    "        else:\n",
    "            freq_stat[word] = freq_stat[word] + 1\n",
    "            \n",
    "    words = list()\n",
    "    counts = list()\n",
    "    for w, c in freq_stat.items():\n",
    "        words.append(w)\n",
    "        counts.append(c)\n",
    "    \n",
    "    return {\n",
    "        'words': words,\n",
    "        'counts': counts,\n",
    "        'stats': freq_stat\n",
    "    }"
   ]
  },
  {
   "cell_type": "code",
   "execution_count": 52,
   "metadata": {},
   "outputs": [],
   "source": [
    "article_summaries = list()\n",
    "\n",
    "for article in articles:\n",
    "    article_summary = to_word_freq_table(article)\n",
    "    \n",
    "    article_summaries.append(\n",
    "        article_summary\n",
    "    )"
   ]
  },
  {
   "cell_type": "code",
   "execution_count": 53,
   "metadata": {},
   "outputs": [],
   "source": [
    "def to_summary_table(summary: dict):\n",
    "    words = summary['words']\n",
    "    counts = summary['counts']\n",
    "    \n",
    "    table = pd.DataFrame({\n",
    "        'words': words,\n",
    "        'counts': np.array(counts)\n",
    "    })\n",
    "    \n",
    "    return table"
   ]
  },
  {
   "cell_type": "code",
   "execution_count": 54,
   "metadata": {},
   "outputs": [],
   "source": [
    "article_summary_tables = list()\n",
    "for article_summary in article_summaries:\n",
    "    article_summary_table = to_summary_table(article_summary)\n",
    "    article_summary_tables.append(article_summary_table)"
   ]
  },
  {
   "cell_type": "code",
   "execution_count": 55,
   "metadata": {},
   "outputs": [],
   "source": [
    "for i in range(len(article_names)):\n",
    "    article_name = article_names[i]\n",
    "    article_summary_file_name = 'summaries/summary-of-'+article_name+'.csv'\n",
    "    article_summary_table = article_summary_tables[i]\n",
    "    article_summary_table.to_csv(path_or_buf=article_summary_file_name, index=False)"
   ]
  },
  {
   "cell_type": "code",
   "execution_count": 59,
   "metadata": {},
   "outputs": [],
   "source": [
    "doc_matrix = list()"
   ]
  },
  {
   "cell_type": "code",
   "execution_count": 60,
   "metadata": {},
   "outputs": [],
   "source": [
    "all_words_vector = list(all_words)"
   ]
  },
  {
   "cell_type": "code",
   "execution_count": 62,
   "metadata": {},
   "outputs": [],
   "source": [
    "for article_summary in article_summaries:\n",
    "    article_word_vector = list()\n",
    "    for word in all_words_vector:\n",
    "        if word in article_summary['stats']:\n",
    "            article_word_vector.append(article_summary['stats'][word])\n",
    "        else:\n",
    "            article_word_vector.append(0)\n",
    "    doc_matrix.append(article_word_vector)"
   ]
  },
  {
   "cell_type": "code",
   "execution_count": 69,
   "metadata": {},
   "outputs": [],
   "source": [
    "index_to_word = pd.DataFrame({\n",
    "    'index': np.array(range(0, len(all_words))),\n",
    "    'word': all_words_vector\n",
    "})"
   ]
  },
  {
   "cell_type": "code",
   "execution_count": 71,
   "metadata": {},
   "outputs": [],
   "source": [
    "index_to_article = pd.DataFrame({\n",
    "    'index': np.array(range(0, len(article_names))),\n",
    "    'article': article_names\n",
    "})"
   ]
  },
  {
   "cell_type": "code",
   "execution_count": 74,
   "metadata": {},
   "outputs": [],
   "source": [
    "index_to_word.to_csv('termdocmatrix/index_to_word.csv', index=False)"
   ]
  },
  {
   "cell_type": "code",
   "execution_count": 75,
   "metadata": {},
   "outputs": [],
   "source": [
    "index_to_article.to_csv('termdocmatrix/index_to_article.csv', index=False)"
   ]
  },
  {
   "cell_type": "code",
   "execution_count": null,
   "metadata": {},
   "outputs": [],
   "source": []
  }
 ],
 "metadata": {
  "kernelspec": {
   "display_name": "Python 3",
   "language": "python",
   "name": "python3"
  },
  "language_info": {
   "codemirror_mode": {
    "name": "ipython",
    "version": 3
   },
   "file_extension": ".py",
   "mimetype": "text/x-python",
   "name": "python",
   "nbconvert_exporter": "python",
   "pygments_lexer": "ipython3",
   "version": "3.8.3"
  }
 },
 "nbformat": 4,
 "nbformat_minor": 4
}
