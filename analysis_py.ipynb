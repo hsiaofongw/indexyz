{
 "cells": [
  {
   "cell_type": "code",
   "execution_count": 6,
   "metadata": {},
   "outputs": [],
   "source": [
    "import pandas as pd\n",
    "import numpy as np\n",
    "import re\n",
    "import time"
   ]
  },
  {
   "cell_type": "code",
   "execution_count": 7,
   "metadata": {},
   "outputs": [],
   "source": [
    "words = pd.read_csv('termdocmatrix/index_to_word.csv')"
   ]
  },
  {
   "cell_type": "code",
   "execution_count": 14,
   "metadata": {},
   "outputs": [],
   "source": [
    "puncs_indexes = list()\n",
    "for i in range(0, words.shape[0]):\n",
    "    word = words.iloc[i, 1]\n",
    "    if not (type(word) is str):\n",
    "#         print('At index: ' + str(i))\n",
    "#         print('Non str: ' + str(word))\n",
    "        puncs_indexes.append(i)\n",
    "        continue\n",
    "    \n",
    "    result = re.search(\n",
    "        '[' +\n",
    "        '\\u2000-\\u206F' +\n",
    "        '\\u0000-\\u002F' +\n",
    "        '\\u003A-\\u0040' +\n",
    "        '\\u005B-\\u0060' +\n",
    "        '\\u007B-\\u007F' +\n",
    "        '\\u0080-\\u00FF' +\n",
    "        '\\uFF00-\\uFF0F' +\n",
    "        '\\u3000-\\u303F' +\n",
    "        ']',\n",
    "        words.iloc[i, 1]\n",
    "    )\n",
    "        \n",
    "    if not (result is None):\n",
    "#         print('At index: ' + str(i))\n",
    "#         print('Result: ' + str(result))\n",
    "        puncs_indexes.append(i)"
   ]
  },
  {
   "cell_type": "code",
   "execution_count": 15,
   "metadata": {},
   "outputs": [
    {
     "data": {
      "text/plain": [
       "271"
      ]
     },
     "execution_count": 15,
     "metadata": {},
     "output_type": "execute_result"
    }
   ],
   "source": [
    "len(puncs_indexes)"
   ]
  },
  {
   "cell_type": "code",
   "execution_count": 103,
   "metadata": {},
   "outputs": [],
   "source": [
    "punctuation_words = words.iloc[puncs_indexes]"
   ]
  },
  {
   "cell_type": "code",
   "execution_count": 104,
   "metadata": {},
   "outputs": [],
   "source": [
    "punctuation_words.to_csv(path_or_buf='termdocmatrix/punc_words.csv', index=False)"
   ]
  },
  {
   "cell_type": "code",
   "execution_count": 105,
   "metadata": {},
   "outputs": [],
   "source": [
    "pure_word_indexes = list()\n",
    "puncs_indexes_set = set(puncs_indexes)\n",
    "for i in range(0, words.shape[0]):\n",
    "    if not (i in puncs_indexes_set):\n",
    "        pure_word_indexes.append(i)"
   ]
  },
  {
   "cell_type": "code",
   "execution_count": 106,
   "metadata": {},
   "outputs": [],
   "source": [
    "pure_words = words.iloc[pure_word_indexes]"
   ]
  },
  {
   "cell_type": "code",
   "execution_count": 107,
   "metadata": {},
   "outputs": [],
   "source": [
    "pure_words.to_csv(path_or_buf='termdocmatrix/pure_words.csv', index=False)"
   ]
  },
  {
   "cell_type": "code",
   "execution_count": 108,
   "metadata": {},
   "outputs": [],
   "source": [
    "pure_words_sorted = pure_words.sort_values('count', ascending=False)"
   ]
  },
  {
   "cell_type": "code",
   "execution_count": 109,
   "metadata": {},
   "outputs": [],
   "source": [
    "pure_words_sorted.to_csv(path_or_buf='termdocmatrix/pure_words_sorted.csv', index=False)"
   ]
  },
  {
   "cell_type": "code",
   "execution_count": 110,
   "metadata": {},
   "outputs": [],
   "source": [
    "a = pd.DataFrame({\n",
    "    'c1': [1,2,3,4,5,6]\n",
    "})"
   ]
  },
  {
   "cell_type": "code",
   "execution_count": 1,
   "metadata": {},
   "outputs": [
    {
     "ename": "NameError",
     "evalue": "name 'pure_words' is not defined",
     "output_type": "error",
     "traceback": [
      "\u001b[0;31m---------------------------------------------------------------------------\u001b[0m",
      "\u001b[0;31mNameError\u001b[0m                                 Traceback (most recent call last)",
      "\u001b[0;32m<ipython-input-1-ff4c346557e5>\u001b[0m in \u001b[0;36m<module>\u001b[0;34m\u001b[0m\n\u001b[0;32m----> 1\u001b[0;31m \u001b[0mpure_words\u001b[0m\u001b[0;34m\u001b[0m\u001b[0;34m\u001b[0m\u001b[0m\n\u001b[0m",
      "\u001b[0;31mNameError\u001b[0m: name 'pure_words' is not defined"
     ]
    }
   ],
   "source": [
    "pure_words"
   ]
  },
  {
   "cell_type": "code",
   "execution_count": 111,
   "metadata": {},
   "outputs": [
    {
     "data": {
      "text/html": [
       "<div>\n",
       "<style scoped>\n",
       "    .dataframe tbody tr th:only-of-type {\n",
       "        vertical-align: middle;\n",
       "    }\n",
       "\n",
       "    .dataframe tbody tr th {\n",
       "        vertical-align: top;\n",
       "    }\n",
       "\n",
       "    .dataframe thead th {\n",
       "        text-align: right;\n",
       "    }\n",
       "</style>\n",
       "<table border=\"1\" class=\"dataframe\">\n",
       "  <thead>\n",
       "    <tr style=\"text-align: right;\">\n",
       "      <th></th>\n",
       "      <th>c1</th>\n",
       "    </tr>\n",
       "  </thead>\n",
       "  <tbody>\n",
       "    <tr>\n",
       "      <th>0</th>\n",
       "      <td>1</td>\n",
       "    </tr>\n",
       "    <tr>\n",
       "      <th>1</th>\n",
       "      <td>2</td>\n",
       "    </tr>\n",
       "    <tr>\n",
       "      <th>2</th>\n",
       "      <td>3</td>\n",
       "    </tr>\n",
       "    <tr>\n",
       "      <th>3</th>\n",
       "      <td>4</td>\n",
       "    </tr>\n",
       "    <tr>\n",
       "      <th>4</th>\n",
       "      <td>5</td>\n",
       "    </tr>\n",
       "    <tr>\n",
       "      <th>5</th>\n",
       "      <td>6</td>\n",
       "    </tr>\n",
       "  </tbody>\n",
       "</table>\n",
       "</div>"
      ],
      "text/plain": [
       "   c1\n",
       "0   1\n",
       "1   2\n",
       "2   3\n",
       "3   4\n",
       "4   5\n",
       "5   6"
      ]
     },
     "execution_count": 111,
     "metadata": {},
     "output_type": "execute_result"
    }
   ],
   "source": [
    "a"
   ]
  },
  {
   "cell_type": "code",
   "execution_count": 162,
   "metadata": {},
   "outputs": [],
   "source": [
    "term_coords = pd.read_csv('termdocmatrix/term_coords.csv')"
   ]
  },
  {
   "cell_type": "code",
   "execution_count": 213,
   "metadata": {},
   "outputs": [],
   "source": [
    "term_coords_np = np.random.rand(10,4)\n",
    "\n",
    "v1 = term_coords_np[:, 0]\n",
    "v2 = term_coords_np[:, 1]\n",
    "v3 = term_coords_np[:, 2]\n",
    "v4 = term_coords_np[:, 3]"
   ]
  },
  {
   "cell_type": "code",
   "execution_count": 214,
   "metadata": {},
   "outputs": [],
   "source": [
    "v1_mat = np.tile(\n",
    "    A = v1,\n",
    "    reps = (v1.shape[0], 1)\n",
    ")\n",
    "\n",
    "v2_mat = np.tile(\n",
    "    A = v2,\n",
    "    reps = (v1.shape[0], 1)\n",
    ")\n",
    "\n",
    "v3_mat = np.tile(\n",
    "    A = v3,\n",
    "    reps = (v1.shape[0], 1)\n",
    ")\n",
    "\n",
    "v4_mat = np.tile(\n",
    "    A = v4,\n",
    "    reps = (v1.shape[0], 1)\n",
    ")"
   ]
  },
  {
   "cell_type": "code",
   "execution_count": 215,
   "metadata": {},
   "outputs": [
    {
     "name": "stdout",
     "output_type": "stream",
     "text": [
      "0.0035429000854492188\n"
     ]
    }
   ],
   "source": [
    "s = time.time()\n",
    "my_cos_1 = np.abs(v1_mat * v1_mat.T + v2_mat * v2_mat.T + v3_mat * v3_mat.T + v4_mat * v4_mat.T)/(\n",
    "    np.sqrt(v1_mat * v1_mat + v2_mat * v2_mat + v3_mat * v3_mat + v4_mat * v4_mat)*np.sqrt(\n",
    "        v1_mat.T * v1_mat.T + v2_mat.T * v2_mat.T + v3_mat.T * v3_mat.T + v4_mat.T * v4_mat.T\n",
    "    )\n",
    ")\n",
    "e = time.time()\n",
    "print(e-s)"
   ]
  },
  {
   "cell_type": "code",
   "execution_count": 216,
   "metadata": {},
   "outputs": [
    {
     "name": "stdout",
     "output_type": "stream",
     "text": [
      "0.00942683219909668\n"
     ]
    }
   ],
   "source": [
    "s = time.time()\n",
    "my_cos_2 = np.zeros(shape=(term_coords_np.shape[0], term_coords_np.shape[0]))\n",
    "for i in range(0, my_cos_2.shape[0]):\n",
    "    for j in range(0, my_cos_2.shape[1]):\n",
    "        vec_i = term_coords_np[i, :]\n",
    "        vec_j = term_coords_np[j, :]\n",
    "        \n",
    "        inner_prod = abs(np.sum(vec_i * vec_j))\n",
    "        norm_of_vec_i = math.sqrt(np.sum(vec_i * vec_i))\n",
    "        norm_of_vec_j = math.sqrt(np.sum(vec_j * vec_j))\n",
    "        \n",
    "        cos_of_i_j = inner_prod / (norm_of_vec_i * norm_of_vec_j)\n",
    "        \n",
    "        my_cos_2[i, j] = cos_of_i_j\n",
    "        \n",
    "e = time.time()\n",
    "print(e-s)"
   ]
  },
  {
   "cell_type": "code",
   "execution_count": null,
   "metadata": {},
   "outputs": [],
   "source": []
  }
 ],
 "metadata": {
  "kernelspec": {
   "display_name": "Python 3",
   "language": "python",
   "name": "python3"
  },
  "language_info": {
   "codemirror_mode": {
    "name": "ipython",
    "version": 3
   },
   "file_extension": ".py",
   "mimetype": "text/x-python",
   "name": "python",
   "nbconvert_exporter": "python",
   "pygments_lexer": "ipython3",
   "version": "3.8.3"
  }
 },
 "nbformat": 4,
 "nbformat_minor": 4
}
