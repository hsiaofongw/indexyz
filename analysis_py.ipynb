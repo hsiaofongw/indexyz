{
 "cells": [
  {
   "cell_type": "code",
   "execution_count": 452,
   "metadata": {},
   "outputs": [],
   "source": [
    "import pandas as pd\n",
    "import numpy as np\n",
    "import re\n",
    "import time\n",
    "import matplotlib.pyplot as plt\n",
    "from sklearn.cluster import AgglomerativeClustering\n",
    "from tqdm import tqdm\n",
    "import pkuseg"
   ]
  },
  {
   "cell_type": "code",
   "execution_count": 483,
   "metadata": {},
   "outputs": [],
   "source": [
    "# 加载 doc_matrix 的行标、列标与 term, article 的对应关系\n",
    "term_indexes = pd.read_csv('termdocmatrix/term_indexes.csv')\n",
    "articles = pd.read_csv('termdocmatrix/article_indexes.csv')"
   ]
  },
  {
   "cell_type": "code",
   "execution_count": 480,
   "metadata": {},
   "outputs": [],
   "source": [
    "# 这个函数判断一个 word(term) 里面有没有标点符号\n",
    "def no_punctuations_or_letters_or_digits_Q(word):\n",
    "    \n",
    "    # if word is not str, then False\n",
    "    if not (type(word) is str):\n",
    "        return False\n",
    "    \n",
    "    # if word has digits, letters or punctuations\n",
    "    result = re.search(\n",
    "        '[' +\n",
    "        '\\u2000-\\u206F' +  # 一般的符号\n",
    "        '\\u0000-\\u002F' +  # 符号\n",
    "        '\\u003A-\\u0040' +  # 符号\n",
    "        '\\u005B-\\u0060' +  # 符号\n",
    "        '\\u007B-\\u007F' +  # 符号\n",
    "        '\\uFF00-\\uFFEF' +  # 全角字符\n",
    "        '\\u3000-\\u303F' +  # 中文标点\n",
    "        ']',\n",
    "        word\n",
    "    )\n",
    "    \n",
    "    return (result is None)"
   ]
  },
  {
   "cell_type": "code",
   "execution_count": 481,
   "metadata": {},
   "outputs": [],
   "source": [
    "# 这个函数判断一个 word(term) 的长度是不是大于或等于 2\n",
    "def length_equal_or_greater_than_2_Q(word):\n",
    "    return len(word) >= 2"
   ]
  },
  {
   "cell_type": "code",
   "execution_count": 482,
   "metadata": {},
   "outputs": [],
   "source": [
    "# 按照上述规则进行筛选\n",
    "all_indexes = list(range(0, term_indexes.shape[0]))\n",
    "\n",
    "def pass_rule(x):\n",
    "    \n",
    "    if not no_punctuations_or_letters_or_digits_Q(x):\n",
    "        return False\n",
    "    \n",
    "    if not length_equal_or_greater_than_2_Q(x):\n",
    "        return False\n",
    "    \n",
    "    return True\n",
    "    \n",
    "selected_indexes = list(filter(\n",
    "    lambda i: pass_rule(term_indexes.iloc[i, 0]),\n",
    "    all_indexes\n",
    "))"
   ]
  },
  {
   "cell_type": "code",
   "execution_count": 459,
   "metadata": {},
   "outputs": [],
   "source": [
    "selected_terms = term_indexes.iloc[selected_indexes, :]\n",
    "selected_terms.to_csv('termdocmatrix/selected_terms.csv', index=False)"
   ]
  },
  {
   "cell_type": "code",
   "execution_count": 460,
   "metadata": {},
   "outputs": [],
   "source": [
    "doc_matrix_full = np.loadtxt('termdocmatrix/doc_matrix.txt', delimiter=',')\n",
    "doc_matrix = doc_matrix_full[:, selected_indexes]"
   ]
  },
  {
   "cell_type": "code",
   "execution_count": 467,
   "metadata": {},
   "outputs": [
    {
     "data": {
      "text/plain": [
       "True"
      ]
     },
     "execution_count": 467,
     "metadata": {},
     "output_type": "execute_result"
    }
   ],
   "source": [
    "# 是否没有 doc 的坐标全为 0\n",
    "np.count_nonzero(np.sum(doc_matrix, axis=1)) == doc_matrix.shape[0]"
   ]
  },
  {
   "cell_type": "code",
   "execution_count": 468,
   "metadata": {},
   "outputs": [],
   "source": [
    "# 计算tf-idf\n",
    "idf = np.log(doc_matrix.shape[0]/np.count_nonzero(doc_matrix, axis = 0))\n",
    "tf_idf = doc_matrix * idf \n",
    "normalization_factor = np.tile(np.sum(tf_idf, axis = 1), reps=[ doc_matrix.shape[1], 1 ]).T\n",
    "tf_idf = tf_idf/normalization_factor"
   ]
  },
  {
   "cell_type": "code",
   "execution_count": 469,
   "metadata": {},
   "outputs": [
    {
     "data": {
      "text/plain": [
       "((73, 73), (73,), (8819, 8819))"
      ]
     },
     "execution_count": 469,
     "metadata": {},
     "output_type": "execute_result"
    }
   ],
   "source": [
    "# 通过 svd 进行 lsa 分析\n",
    "u, s, vh = np.linalg.svd(tf_idf, full_matrices=True)\n",
    "u.shape, s.shape, vh.shape"
   ]
  },
  {
   "cell_type": "code",
   "execution_count": 470,
   "metadata": {},
   "outputs": [],
   "source": [
    "# 将 原始空间 的 doc 投影到 特征空间\n",
    "matS = np.zeros(shape=doc_matrix.shape)\n",
    "matS[0:s.shape[0], 0:s.shape[0]] = np.diag(s)\n",
    "doc_coords = np.matmul(u, matS)"
   ]
  },
  {
   "cell_type": "code",
   "execution_count": 471,
   "metadata": {},
   "outputs": [],
   "source": [
    "# 加载分词模型\n",
    "seg = pkuseg.pkuseg()"
   ]
  },
  {
   "cell_type": "code",
   "execution_count": 473,
   "metadata": {},
   "outputs": [],
   "source": [
    "# 计算子 term_doc_matrix 的角标与 term_index 的对应关系\n",
    "col_num_in_new_doc_matrix = pd.DataFrame({\n",
    "    'col_num_in_new_doc_matrix': np.array(range(0, doc_matrix.shape[1]))\n",
    "})\n",
    "\n",
    "selected_terms = selected_terms.reset_index(drop=True)\n",
    "selected_terms = pd.concat(\n",
    "    objs = [selected_terms, col_num_in_new_doc_matrix],\n",
    "    axis = 1\n",
    ")"
   ]
  },
  {
   "cell_type": "code",
   "execution_count": 474,
   "metadata": {},
   "outputs": [],
   "source": [
    "# 建立一个 term 到 子term_doc_matrix 的角标 的对应关系\n",
    "term_to_col_index = dict()\n",
    "for i in range(selected_terms.shape[0]):\n",
    "    term = selected_terms.iloc[i, 0]\n",
    "    col_index = selected_terms.iloc[i, 2]\n",
    "    term_to_col_index[term] = col_index"
   ]
  },
  {
   "cell_type": "code",
   "execution_count": 499,
   "metadata": {},
   "outputs": [
    {
     "data": {
      "text/plain": [
       "['crontab']"
      ]
     },
     "execution_count": 499,
     "metadata": {},
     "output_type": "execute_result"
    }
   ],
   "source": [
    "# 接受用户输入\n",
    "query_terms = seg.cut('crontab')\n",
    "query_terms"
   ]
  },
  {
   "cell_type": "code",
   "execution_count": 500,
   "metadata": {},
   "outputs": [],
   "source": [
    "# 构建 query_row, 这个 query_row 相当于一个 doc\n",
    "query_row = np.array(range(doc_matrix.shape[1]))\n",
    "query_row[:] = 0\n",
    "query_row = np.reshape(a = query_row, newshape = (1, query_row.shape[0]))\n",
    "for term in query_terms:\n",
    "    if term in term_to_col_index:\n",
    "        col_index = term_to_col_index[term]\n",
    "        query_row[0, col_index] = 1"
   ]
  },
  {
   "cell_type": "code",
   "execution_count": 501,
   "metadata": {},
   "outputs": [
    {
     "data": {
      "text/plain": [
       "True"
      ]
     },
     "execution_count": 501,
     "metadata": {},
     "output_type": "execute_result"
    }
   ],
   "source": [
    "# 是否可以进行搜索\n",
    "np.sum(query_row) > 0"
   ]
  },
  {
   "cell_type": "code",
   "execution_count": 502,
   "metadata": {},
   "outputs": [],
   "source": [
    "# 将 query_row 投影到 lsa 特征空间\n",
    "query_coord = np.matmul(query_row, vh.T)\n",
    "\n",
    "query_coord = query_coord[:, 0:doc_coords.shape[0]]\n",
    "doc_coords = doc_coords[:, 0:doc_coords.shape[0]]"
   ]
  },
  {
   "cell_type": "code",
   "execution_count": 503,
   "metadata": {},
   "outputs": [],
   "source": [
    "# 用这个函数计算两个向量的余弦值\n",
    "def cos_of_two_vector(x1, x2):\n",
    "    n_x1 = np.linalg.norm(x1)\n",
    "    n_x2 = np.linalg.norm(x2)\n",
    "    inner_prod = np.abs(np.sum(x1 * x2))\n",
    "    \n",
    "    if n_x1 * n_x2 == 0:\n",
    "        n_x1 = n_x1 + (1E-10)\n",
    "        n_x2 = n_x2 + (1E-10)\n",
    "        \n",
    "    return inner_prod / (n_x1 * n_x2)"
   ]
  },
  {
   "cell_type": "code",
   "execution_count": 504,
   "metadata": {},
   "outputs": [],
   "source": [
    "# 计算 query_coord (它是查询关键字组成的 word_vector 的 lsa 特征空间的投影) 与\n",
    "# doc 在特征空间中的投影的余弦值，以此来判断接近程度\n",
    "cos_values = list()\n",
    "for i in range(doc_coords.shape[0]):\n",
    "    doc_coord = doc_coords[i, :]\n",
    "    cos_value = cos_of_two_vector(query_coord, doc_coord)\n",
    "    cos_values.append(cos_value)"
   ]
  },
  {
   "cell_type": "code",
   "execution_count": 505,
   "metadata": {},
   "outputs": [],
   "source": [
    "# 更新匹配度那一列\n",
    "articles['match_val'] = cos_values"
   ]
  },
  {
   "cell_type": "code",
   "execution_count": 506,
   "metadata": {},
   "outputs": [
    {
     "data": {
      "text/html": [
       "<div>\n",
       "<style scoped>\n",
       "    .dataframe tbody tr th:only-of-type {\n",
       "        vertical-align: middle;\n",
       "    }\n",
       "\n",
       "    .dataframe tbody tr th {\n",
       "        vertical-align: top;\n",
       "    }\n",
       "\n",
       "    .dataframe thead th {\n",
       "        text-align: right;\n",
       "    }\n",
       "</style>\n",
       "<table border=\"1\" class=\"dataframe\">\n",
       "  <thead>\n",
       "    <tr style=\"text-align: right;\">\n",
       "      <th></th>\n",
       "      <th>article_name</th>\n",
       "      <th>row_num_in_doc_matrix</th>\n",
       "      <th>match_val</th>\n",
       "    </tr>\n",
       "  </thead>\n",
       "  <tbody>\n",
       "    <tr>\n",
       "      <th>13</th>\n",
       "      <td>crontab-tutorial.md</td>\n",
       "      <td>13</td>\n",
       "      <td>9.778627e-01</td>\n",
       "    </tr>\n",
       "    <tr>\n",
       "      <th>40</th>\n",
       "      <td>linux-tools-recommendation-1.md</td>\n",
       "      <td>40</td>\n",
       "      <td>4.837851e-02</td>\n",
       "    </tr>\n",
       "    <tr>\n",
       "      <th>37</th>\n",
       "      <td>learn-svg.md</td>\n",
       "      <td>37</td>\n",
       "      <td>5.679358e-16</td>\n",
       "    </tr>\n",
       "    <tr>\n",
       "      <th>48</th>\n",
       "      <td>mongo-db-mac-os-tutorial.md</td>\n",
       "      <td>48</td>\n",
       "      <td>5.589611e-16</td>\n",
       "    </tr>\n",
       "    <tr>\n",
       "      <th>20</th>\n",
       "      <td>feature-request-scripts-hub.md</td>\n",
       "      <td>20</td>\n",
       "      <td>4.742996e-16</td>\n",
       "    </tr>\n",
       "    <tr>\n",
       "      <th>...</th>\n",
       "      <td>...</td>\n",
       "      <td>...</td>\n",
       "      <td>...</td>\n",
       "    </tr>\n",
       "    <tr>\n",
       "      <th>25</th>\n",
       "      <td>how-fast.md</td>\n",
       "      <td>25</td>\n",
       "      <td>5.507013e-18</td>\n",
       "    </tr>\n",
       "    <tr>\n",
       "      <th>23</th>\n",
       "      <td>generate-parentheses-base-on-desicion-procedur...</td>\n",
       "      <td>23</td>\n",
       "      <td>4.816387e-18</td>\n",
       "    </tr>\n",
       "    <tr>\n",
       "      <th>4</th>\n",
       "      <td>authorship-homogeneous-test-based-on-text-segm...</td>\n",
       "      <td>4</td>\n",
       "      <td>4.343183e-18</td>\n",
       "    </tr>\n",
       "    <tr>\n",
       "      <th>3</th>\n",
       "      <td>association-rules-mining-and-apriori-algorithm.md</td>\n",
       "      <td>3</td>\n",
       "      <td>4.079663e-18</td>\n",
       "    </tr>\n",
       "    <tr>\n",
       "      <th>60</th>\n",
       "      <td>release-a-huge-disk-space-in-macos.md</td>\n",
       "      <td>60</td>\n",
       "      <td>3.176555e-18</td>\n",
       "    </tr>\n",
       "  </tbody>\n",
       "</table>\n",
       "<p>73 rows × 3 columns</p>\n",
       "</div>"
      ],
      "text/plain": [
       "                                         article_name  row_num_in_doc_matrix  \\\n",
       "13                                crontab-tutorial.md                     13   \n",
       "40                    linux-tools-recommendation-1.md                     40   \n",
       "37                                       learn-svg.md                     37   \n",
       "48                        mongo-db-mac-os-tutorial.md                     48   \n",
       "20                     feature-request-scripts-hub.md                     20   \n",
       "..                                                ...                    ...   \n",
       "25                                        how-fast.md                     25   \n",
       "23  generate-parentheses-base-on-desicion-procedur...                     23   \n",
       "4   authorship-homogeneous-test-based-on-text-segm...                      4   \n",
       "3   association-rules-mining-and-apriori-algorithm.md                      3   \n",
       "60              release-a-huge-disk-space-in-macos.md                     60   \n",
       "\n",
       "       match_val  \n",
       "13  9.778627e-01  \n",
       "40  4.837851e-02  \n",
       "37  5.679358e-16  \n",
       "48  5.589611e-16  \n",
       "20  4.742996e-16  \n",
       "..           ...  \n",
       "25  5.507013e-18  \n",
       "23  4.816387e-18  \n",
       "4   4.343183e-18  \n",
       "3   4.079663e-18  \n",
       "60  3.176555e-18  \n",
       "\n",
       "[73 rows x 3 columns]"
      ]
     },
     "execution_count": 506,
     "metadata": {},
     "output_type": "execute_result"
    }
   ],
   "source": [
    "# 展示搜索结果\n",
    "articles.sort_values(by = 'match_val', ascending=False)"
   ]
  },
  {
   "cell_type": "code",
   "execution_count": null,
   "metadata": {},
   "outputs": [],
   "source": []
  }
 ],
 "metadata": {
  "kernelspec": {
   "display_name": "Python 3",
   "language": "python",
   "name": "python3"
  },
  "language_info": {
   "codemirror_mode": {
    "name": "ipython",
    "version": 3
   },
   "file_extension": ".py",
   "mimetype": "text/x-python",
   "name": "python",
   "nbconvert_exporter": "python",
   "pygments_lexer": "ipython3",
   "version": "3.8.5"
  }
 },
 "nbformat": 4,
 "nbformat_minor": 4
}
