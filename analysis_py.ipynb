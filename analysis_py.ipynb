{
 "cells": [
  {
   "cell_type": "code",
   "execution_count": 15,
   "metadata": {},
   "outputs": [],
   "source": [
    "import pandas as pd\n",
    "import numpy as np\n",
    "import re\n",
    "import time\n",
    "import matplotlib.pyplot as plt\n",
    "from sklearn.cluster import AgglomerativeClustering\n",
    "from tqdm import tqdm\n",
    "import pkuseg\n",
    "from typing import Tuple, Callable, AnyStr, Dict, List"
   ]
  },
  {
   "cell_type": "code",
   "execution_count": 2,
   "metadata": {},
   "outputs": [],
   "source": [
    "\n",
    "# 读入必要的数据文件，一般只运行一次即可\n",
    "def load_data_from_file(\n",
    "    term_indexes_filename: str,\n",
    "    article_indexes_filename: str,\n",
    "    term_doc_matrix_filename: str\n",
    ") -> Tuple[pd.DataFrame, pd.DataFrame, np.ndarray]:\n",
    "    \n",
    "    # 加载 term_doc_matrix 的行标、列标与 term, article 的对应关系\n",
    "    term_indexes = pd.read_csv(term_indexes_filename)\n",
    "    articles = pd.read_csv(article_indexes_filename)\n",
    "\n",
    "    # 加载 term_doc_matrix\n",
    "    doc_matrix = np.loadtxt(term_doc_matrix_filename, delimiter=',')\n",
    "    \n",
    "    return (\n",
    "        term_indexes,\n",
    "        articles,\n",
    "        doc_matrix,\n",
    "    )"
   ]
  },
  {
   "cell_type": "code",
   "execution_count": 3,
   "metadata": {},
   "outputs": [],
   "source": [
    "term_file = 'termdocmatrix/term_indexes.csv'\n",
    "article_file = 'termdocmatrix/article_indexes.csv'\n",
    "doc_mat_file = 'termdocmatrix/doc_matrix.txt'"
   ]
  },
  {
   "cell_type": "code",
   "execution_count": 4,
   "metadata": {},
   "outputs": [],
   "source": [
    "term, article, docs = load_data_from_file(\n",
    "    term_file,\n",
    "    article_file,\n",
    "    doc_mat_file\n",
    ")"
   ]
  },
  {
   "cell_type": "code",
   "execution_count": 7,
   "metadata": {},
   "outputs": [
    {
     "data": {
      "text/plain": [
       "array([[ 2.,  1., 92., ...,  0.,  0.,  0.],\n",
       "       [ 2.,  1., 29., ...,  0.,  0.,  0.],\n",
       "       [ 2.,  1.,  7., ...,  0.,  0.,  0.],\n",
       "       ...,\n",
       "       [ 2.,  3.,  8., ...,  0.,  0.,  0.],\n",
       "       [ 2.,  1.,  6., ...,  0.,  0.,  0.],\n",
       "       [ 2.,  1.,  9., ...,  1.,  1.,  1.]])"
      ]
     },
     "execution_count": 7,
     "metadata": {},
     "output_type": "execute_result"
    }
   ],
   "source": [
    "docs"
   ]
  },
  {
   "cell_type": "code",
   "execution_count": 8,
   "metadata": {},
   "outputs": [],
   "source": [
    "\n",
    "# 返回符合条件的 term 的序号的列表\n",
    "def get_satisfied_indexes(term_indexes: pd.DataFrame) -> [int]:\n",
    "\n",
    "    # 这个函数判断一个 word(term) 里面有没有标点符号\n",
    "    def no_punctuations_or_letters_or_digits_Q(word):\n",
    "        \n",
    "        # if word is not str, then False\n",
    "        if not (type(word) is str):\n",
    "            return False\n",
    "        \n",
    "        # if word has digits, letters or punctuations\n",
    "        result = re.search(\n",
    "            '[' +\n",
    "            '\\u2000-\\u206F' +  # 一般的符号\n",
    "            '\\u0000-\\u002F' +  # 符号\n",
    "            '\\u003A-\\u0040' +  # 符号\n",
    "            '\\u005B-\\u0060' +  # 符号\n",
    "            '\\u007B-\\u007F' +  # 符号\n",
    "            '\\uFF00-\\uFFEF' +  # 全角字符\n",
    "            '\\u3000-\\u303F' +  # 中文标点\n",
    "            ']',\n",
    "            word\n",
    "        )\n",
    "        \n",
    "        return (result is None)\n",
    "    \n",
    "    # 这个函数判断一个 word(term) 的长度是不是大于或等于 2\n",
    "    def length_equal_or_greater_than_2_Q(word):\n",
    "        return len(word) >= 2\n",
    "\n",
    "    # 按照上述规则进行筛选\n",
    "    all_indexes = list(range(0, term_indexes.shape[0]))\n",
    "\n",
    "    # 检验规则\n",
    "    def pass_rule(x: str) -> bool:\n",
    "        \n",
    "        if not no_punctuations_or_letters_or_digits_Q(x):\n",
    "            return False\n",
    "        \n",
    "        if not length_equal_or_greater_than_2_Q(x):\n",
    "            return False\n",
    "        \n",
    "        return True\n",
    "    \n",
    "    selected_indexes = list(filter(\n",
    "        lambda i: pass_rule(term_indexes.iloc[i, 0]),\n",
    "        all_indexes\n",
    "    ))\n",
    "\n",
    "    return selected_indexes"
   ]
  },
  {
   "cell_type": "code",
   "execution_count": 9,
   "metadata": {},
   "outputs": [],
   "source": [
    "selecteds = get_satisfied_indexes(term)"
   ]
  },
  {
   "cell_type": "code",
   "execution_count": 10,
   "metadata": {},
   "outputs": [
    {
     "data": {
      "text/plain": [
       "8819"
      ]
     },
     "execution_count": 10,
     "metadata": {},
     "output_type": "execute_result"
    }
   ],
   "source": [
    "len(selecteds)"
   ]
  },
  {
   "cell_type": "code",
   "execution_count": 17,
   "metadata": {},
   "outputs": [],
   "source": [
    "# 选取 terms 的子集后，对 doc_matrix 和 term 与 index 的对应关系做相应的改动        \n",
    "# 返回一个新的 term_indexes 与新的 doc_matrix\n",
    "def correct_doc_matrix(\n",
    "    term_indexes: pd.DataFrame, \n",
    "    selected_indexes: [int],\n",
    "    doc_matrix: [[int]]\n",
    ") -> Tuple[pd.DataFrame, List[List[int]]]:\n",
    "\n",
    "    # 选取原先的 terms 的子集\n",
    "    selected_terms = term_indexes.iloc[selected_indexes, :]\n",
    "    doc_matrix = doc_matrix[:, selected_indexes]\n",
    "\n",
    "    # 是否没有 doc 的坐标全为 0\n",
    "    row_num_that_all_zeros = (np.sum(doc_matrix, axis = 1) == 0)\n",
    "\n",
    "    # 如果有某一行全为 0, 那么就在那一行随机添加一个 1\n",
    "    col_num_to_set_1 = random.randint(0, doc_matrix.shape[1]-1)\n",
    "\n",
    "    doc_matrix[row_num_that_all_zeros, col_num_to_set_1] = 1\n",
    "\n",
    "    # 计算子 term_doc_matrix 的角标与 term_index 的对应关系\n",
    "    col_num_in_new_doc_matrix = pd.DataFrame({\n",
    "        'col_num_in_new_doc_matrix': np.array(range(0, doc_matrix.shape[1]))\n",
    "    })\n",
    "\n",
    "    # 更新索引并合并\n",
    "    selected_terms = selected_terms.reset_index(drop=True)\n",
    "    selected_terms = pd.concat(\n",
    "        objs = [selected_terms, col_num_in_new_doc_matrix],\n",
    "        axis = 1\n",
    "    )\n",
    "\n",
    "    return (\n",
    "        selected_terms,\n",
    "        doc_matrix,\n",
    "    )\n"
   ]
  },
  {
   "cell_type": "code",
   "execution_count": 19,
   "metadata": {},
   "outputs": [],
   "source": [
    "import random"
   ]
  },
  {
   "cell_type": "code",
   "execution_count": 20,
   "metadata": {},
   "outputs": [],
   "source": [
    "term, docs = correct_doc_matrix(term, selecteds, docs)"
   ]
  },
  {
   "cell_type": "code",
   "execution_count": 21,
   "metadata": {},
   "outputs": [
    {
     "data": {
      "text/html": [
       "<div>\n",
       "<style scoped>\n",
       "    .dataframe tbody tr th:only-of-type {\n",
       "        vertical-align: middle;\n",
       "    }\n",
       "\n",
       "    .dataframe tbody tr th {\n",
       "        vertical-align: top;\n",
       "    }\n",
       "\n",
       "    .dataframe thead th {\n",
       "        text-align: right;\n",
       "    }\n",
       "</style>\n",
       "<table border=\"1\" class=\"dataframe\">\n",
       "  <thead>\n",
       "    <tr style=\"text-align: right;\">\n",
       "      <th></th>\n",
       "      <th>term</th>\n",
       "      <th>col_num_in_doc_matrix</th>\n",
       "      <th>col_num_in_new_doc_matrix</th>\n",
       "    </tr>\n",
       "  </thead>\n",
       "  <tbody>\n",
       "    <tr>\n",
       "      <th>0</th>\n",
       "      <td>title</td>\n",
       "      <td>1</td>\n",
       "      <td>0</td>\n",
       "    </tr>\n",
       "    <tr>\n",
       "      <th>1</th>\n",
       "      <td>4Sum</td>\n",
       "      <td>4</td>\n",
       "      <td>1</td>\n",
       "    </tr>\n",
       "    <tr>\n",
       "      <th>2</th>\n",
       "      <td>问题</td>\n",
       "      <td>5</td>\n",
       "      <td>2</td>\n",
       "    </tr>\n",
       "    <tr>\n",
       "      <th>3</th>\n",
       "      <td>分支</td>\n",
       "      <td>7</td>\n",
       "      <td>3</td>\n",
       "    </tr>\n",
       "    <tr>\n",
       "      <th>4</th>\n",
       "      <td>定界</td>\n",
       "      <td>8</td>\n",
       "      <td>4</td>\n",
       "    </tr>\n",
       "    <tr>\n",
       "      <th>...</th>\n",
       "      <td>...</td>\n",
       "      <td>...</td>\n",
       "      <td>...</td>\n",
       "    </tr>\n",
       "    <tr>\n",
       "      <th>8814</th>\n",
       "      <td>后会</td>\n",
       "      <td>14978</td>\n",
       "      <td>8814</td>\n",
       "    </tr>\n",
       "    <tr>\n",
       "      <th>8815</th>\n",
       "      <td>Editing</td>\n",
       "      <td>14985</td>\n",
       "      <td>8815</td>\n",
       "    </tr>\n",
       "    <tr>\n",
       "      <th>8816</th>\n",
       "      <td>Visual</td>\n",
       "      <td>14986</td>\n",
       "      <td>8816</td>\n",
       "    </tr>\n",
       "    <tr>\n",
       "      <th>8817</th>\n",
       "      <td>Studio</td>\n",
       "      <td>14987</td>\n",
       "      <td>8817</td>\n",
       "    </tr>\n",
       "    <tr>\n",
       "      <th>8818</th>\n",
       "      <td>intellisense</td>\n",
       "      <td>14991</td>\n",
       "      <td>8818</td>\n",
       "    </tr>\n",
       "  </tbody>\n",
       "</table>\n",
       "<p>8819 rows × 3 columns</p>\n",
       "</div>"
      ],
      "text/plain": [
       "              term  col_num_in_doc_matrix  col_num_in_new_doc_matrix\n",
       "0            title                      1                          0\n",
       "1             4Sum                      4                          1\n",
       "2               问题                      5                          2\n",
       "3               分支                      7                          3\n",
       "4               定界                      8                          4\n",
       "...            ...                    ...                        ...\n",
       "8814            后会                  14978                       8814\n",
       "8815       Editing                  14985                       8815\n",
       "8816        Visual                  14986                       8816\n",
       "8817        Studio                  14987                       8817\n",
       "8818  intellisense                  14991                       8818\n",
       "\n",
       "[8819 rows x 3 columns]"
      ]
     },
     "execution_count": 21,
     "metadata": {},
     "output_type": "execute_result"
    }
   ],
   "source": [
    "term"
   ]
  },
  {
   "cell_type": "code",
   "execution_count": 22,
   "metadata": {},
   "outputs": [
    {
     "data": {
      "text/plain": [
       "(73, 8819)"
      ]
     },
     "execution_count": 22,
     "metadata": {},
     "output_type": "execute_result"
    }
   ],
   "source": [
    "docs.shape"
   ]
  },
  {
   "cell_type": "code",
   "execution_count": 23,
   "metadata": {},
   "outputs": [],
   "source": [
    "\n",
    "# 计算tf-idf\n",
    "def compute_tf_idf(doc_matrix: [[int]]) -> np.ndarray:\n",
    "\n",
    "    idf = np.log(np.divide(\n",
    "        doc_matrix.shape[0],\n",
    "        np.count_nonzero(doc_matrix, axis = 0)\n",
    "    ))\n",
    "\n",
    "    tf_idf = doc_matrix * idf \n",
    "\n",
    "    normalization_factor = np.tile(np.sum(tf_idf, axis = 1), reps=[ doc_matrix.shape[1], 1 ]).T\n",
    "\n",
    "    tf_idf = tf_idf/normalization_factor\n",
    "\n",
    "    return tf_idf"
   ]
  },
  {
   "cell_type": "code",
   "execution_count": 24,
   "metadata": {},
   "outputs": [],
   "source": [
    "tf_idf = compute_tf_idf(docs)"
   ]
  },
  {
   "cell_type": "code",
   "execution_count": 25,
   "metadata": {},
   "outputs": [
    {
     "data": {
      "text/plain": [
       "array([[0.        , 0.00872575, 0.00274568, ..., 0.        , 0.        ,\n",
       "        0.        ],\n",
       "       [0.        , 0.        , 0.00023046, ..., 0.        , 0.        ,\n",
       "        0.        ],\n",
       "       [0.        , 0.        , 0.00060997, ..., 0.        , 0.        ,\n",
       "        0.        ],\n",
       "       ...,\n",
       "       [0.        , 0.        , 0.        , ..., 0.        , 0.        ,\n",
       "        0.        ],\n",
       "       [0.        , 0.        , 0.        , ..., 0.        , 0.        ,\n",
       "        0.        ],\n",
       "       [0.        , 0.        , 0.0023546 , ..., 0.0199544 , 0.0199544 ,\n",
       "        0.0199544 ]])"
      ]
     },
     "execution_count": 25,
     "metadata": {},
     "output_type": "execute_result"
    }
   ],
   "source": [
    "tf_idf"
   ]
  },
  {
   "cell_type": "code",
   "execution_count": 26,
   "metadata": {},
   "outputs": [],
   "source": [
    "# 通过 svd 进行 lsa 分析\n",
    "def lsa_analysis(tf_idf: np.ndarray) -> Tuple[np.ndarray, np.ndarray, np.ndarray, np.ndarray]:\n",
    "\n",
    "    # 先进行 svd 操作\n",
    "    u, s, vh = np.linalg.svd(tf_idf, full_matrices=True)\n",
    "\n",
    "    # 再将 原始空间 的 doc 投影到 特征空间\n",
    "    matS = np.zeros(shape=tf_idf.shape)\n",
    "    matS[0:s.shape[0], 0:s.shape[0]] = np.diag(s)\n",
    "    doc_coords = np.matmul(u, matS)\n",
    "\n",
    "    return (\n",
    "        u, s, vh, doc_coords,\n",
    "    )"
   ]
  },
  {
   "cell_type": "code",
   "execution_count": 27,
   "metadata": {},
   "outputs": [],
   "source": [
    "u, s, v, doc_coords = lsa_analysis(tf_idf)"
   ]
  },
  {
   "cell_type": "code",
   "execution_count": 28,
   "metadata": {},
   "outputs": [
    {
     "data": {
      "text/plain": [
       "(73, 73)"
      ]
     },
     "execution_count": 28,
     "metadata": {},
     "output_type": "execute_result"
    }
   ],
   "source": [
    "u.shape"
   ]
  },
  {
   "cell_type": "code",
   "execution_count": 29,
   "metadata": {},
   "outputs": [
    {
     "data": {
      "text/plain": [
       "(73,)"
      ]
     },
     "execution_count": 29,
     "metadata": {},
     "output_type": "execute_result"
    }
   ],
   "source": [
    "s.shape"
   ]
  },
  {
   "cell_type": "code",
   "execution_count": 30,
   "metadata": {},
   "outputs": [
    {
     "data": {
      "text/plain": [
       "(8819, 8819)"
      ]
     },
     "execution_count": 30,
     "metadata": {},
     "output_type": "execute_result"
    }
   ],
   "source": [
    "v.shape"
   ]
  },
  {
   "cell_type": "code",
   "execution_count": 31,
   "metadata": {},
   "outputs": [
    {
     "data": {
      "text/plain": [
       "(73, 8819)"
      ]
     },
     "execution_count": 31,
     "metadata": {},
     "output_type": "execute_result"
    }
   ],
   "source": [
    "doc_coords.shape"
   ]
  },
  {
   "cell_type": "code",
   "execution_count": 33,
   "metadata": {},
   "outputs": [],
   "source": [
    "\n",
    "# 把 term_indexes 转化为词典形式\n",
    "def make_term_to_col_index_mapper(term_indexes: pd.DataFrame) -> Dict[str, int]:\n",
    "\n",
    "    # 建立一个 term 到 子term_doc_matrix 的角标 的对应关系\n",
    "    term_to_col_index = dict()\n",
    "    for i in range(term_indexes.shape[0]):\n",
    "        term = term_indexes.iloc[i, 0]\n",
    "        col_index = term_indexes.iloc[i, 2]\n",
    "        term_to_col_index[term] = col_index\n",
    "    \n",
    "    return term_to_col_index\n"
   ]
  },
  {
   "cell_type": "code",
   "execution_count": 34,
   "metadata": {},
   "outputs": [],
   "source": [
    "col_mapper = make_term_to_col_index_mapper(term)"
   ]
  },
  {
   "cell_type": "code",
   "execution_count": 42,
   "metadata": {},
   "outputs": [],
   "source": [
    "\n",
    "# 通过关键词列表查询\n",
    "def do_query_by_words(\n",
    "    words: [str],\n",
    "    article_indexes: pd.DataFrame,\n",
    "    doc_coords: any, vh: any,\n",
    "    term_to_col_index: Dict[str, int]\n",
    ") -> pd.DataFrame:\n",
    "\n",
    "    query_terms = words\n",
    "\n",
    "    # 构建 query_row, 这个 query_row 相当于一个 doc\n",
    "\n",
    "    n_terms = len(term_to_col_index.keys())\n",
    "    n_articles = article_indexes.shape[0]\n",
    "\n",
    "    query_row = np.zeros(shape = (1, n_terms))\n",
    "    for term in query_terms:\n",
    "        if term in term_to_col_index:\n",
    "            col_index = term_to_col_index[term]\n",
    "            query_row[0, col_index] = 1\n",
    "\n",
    "    # 将 query_row 投影到 lsa 特征空间\n",
    "    query_coord = np.matmul(query_row, vh.T)\n",
    "\n",
    "    # 截断\n",
    "    query_coord = query_coord[:, 0:doc_coords.shape[0]]\n",
    "    doc_coords = doc_coords[:, 0:doc_coords.shape[0]]\n",
    "\n",
    "    # 用这个函数计算两个向量的余弦值\n",
    "    def cos_of_two_vector(x1: np.ndarray, x2: np.ndarray) -> any:\n",
    "        n_x1 = np.linalg.norm(x1)\n",
    "        n_x2 = np.linalg.norm(x2)\n",
    "        inner_prod = np.abs(np.sum(x1 * x2))\n",
    "        \n",
    "        # 为了防止分母等于 0\n",
    "        if n_x1 * n_x2 == 0:\n",
    "            n_x1 = n_x1 + (1E-10)\n",
    "            n_x2 = n_x2 + (1E-10)\n",
    "            \n",
    "        return inner_prod / (n_x1 * n_x2)\n",
    "\n",
    "    # 比较 query_coord 与每一个 doc_coord 的余弦值(余弦值越解决 1 越相似)\n",
    "    cos_values = list()\n",
    "    for i in range(doc_coords.shape[0]):\n",
    "        doc_coord = doc_coords[i, :]\n",
    "        cos_value = cos_of_two_vector(query_coord, doc_coord)\n",
    "        cos_values.append(cos_value)\n",
    "\n",
    "    # 更新匹配度那一列\n",
    "    article_indexes['match_val'] = cos_values\n",
    "\n",
    "    # 展示搜索结果\n",
    "    return article_indexes.sort_values(by = 'match_val', ascending=False)\n"
   ]
  },
  {
   "cell_type": "code",
   "execution_count": 56,
   "metadata": {},
   "outputs": [
    {
     "data": {
      "text/plain": [
       "3824"
      ]
     },
     "execution_count": 56,
     "metadata": {},
     "output_type": "execute_result"
    }
   ],
   "source": [
    "col_mapper['动态']"
   ]
  },
  {
   "cell_type": "code",
   "execution_count": 57,
   "metadata": {},
   "outputs": [
    {
     "data": {
      "text/plain": [
       "620"
      ]
     },
     "execution_count": 57,
     "metadata": {},
     "output_type": "execute_result"
    }
   ],
   "source": [
    "col_mapper['规划']"
   ]
  },
  {
   "cell_type": "code",
   "execution_count": 61,
   "metadata": {},
   "outputs": [
    {
     "data": {
      "text/html": [
       "<div>\n",
       "<style scoped>\n",
       "    .dataframe tbody tr th:only-of-type {\n",
       "        vertical-align: middle;\n",
       "    }\n",
       "\n",
       "    .dataframe tbody tr th {\n",
       "        vertical-align: top;\n",
       "    }\n",
       "\n",
       "    .dataframe thead th {\n",
       "        text-align: right;\n",
       "    }\n",
       "</style>\n",
       "<table border=\"1\" class=\"dataframe\">\n",
       "  <thead>\n",
       "    <tr style=\"text-align: right;\">\n",
       "      <th></th>\n",
       "      <th>article_name</th>\n",
       "      <th>row_num_in_doc_matrix</th>\n",
       "      <th>match_val</th>\n",
       "    </tr>\n",
       "  </thead>\n",
       "  <tbody>\n",
       "    <tr>\n",
       "      <th>43</th>\n",
       "      <td>longest-substring-no-repeating.md</td>\n",
       "      <td>43</td>\n",
       "      <td>9.103343e-01</td>\n",
       "    </tr>\n",
       "    <tr>\n",
       "      <th>15</th>\n",
       "      <td>dynamic-programming-intro.md</td>\n",
       "      <td>15</td>\n",
       "      <td>2.812571e-01</td>\n",
       "    </tr>\n",
       "    <tr>\n",
       "      <th>63</th>\n",
       "      <td>site-advancing.md</td>\n",
       "      <td>63</td>\n",
       "      <td>2.040482e-01</td>\n",
       "    </tr>\n",
       "    <tr>\n",
       "      <th>17</th>\n",
       "      <td>envisioning-an-larger-blogging-system.md</td>\n",
       "      <td>17</td>\n",
       "      <td>1.887953e-01</td>\n",
       "    </tr>\n",
       "    <tr>\n",
       "      <th>54</th>\n",
       "      <td>new-changes-in-beyondstars-20-07-04.md</td>\n",
       "      <td>54</td>\n",
       "      <td>1.216020e-01</td>\n",
       "    </tr>\n",
       "    <tr>\n",
       "      <th>...</th>\n",
       "      <td>...</td>\n",
       "      <td>...</td>\n",
       "      <td>...</td>\n",
       "    </tr>\n",
       "    <tr>\n",
       "      <th>25</th>\n",
       "      <td>how-fast.md</td>\n",
       "      <td>25</td>\n",
       "      <td>1.536989e-17</td>\n",
       "    </tr>\n",
       "    <tr>\n",
       "      <th>4</th>\n",
       "      <td>authorship-homogeneous-test-based-on-text-segm...</td>\n",
       "      <td>4</td>\n",
       "      <td>1.479596e-17</td>\n",
       "    </tr>\n",
       "    <tr>\n",
       "      <th>71</th>\n",
       "      <td>traceroute-introduction.md</td>\n",
       "      <td>71</td>\n",
       "      <td>1.191981e-17</td>\n",
       "    </tr>\n",
       "    <tr>\n",
       "      <th>3</th>\n",
       "      <td>association-rules-mining-and-apriori-algorithm.md</td>\n",
       "      <td>3</td>\n",
       "      <td>1.059323e-17</td>\n",
       "    </tr>\n",
       "    <tr>\n",
       "      <th>27</th>\n",
       "      <td>hugo-remove-tags-in-sitemap.md</td>\n",
       "      <td>27</td>\n",
       "      <td>2.844330e-18</td>\n",
       "    </tr>\n",
       "  </tbody>\n",
       "</table>\n",
       "<p>73 rows × 3 columns</p>\n",
       "</div>"
      ],
      "text/plain": [
       "                                         article_name  row_num_in_doc_matrix  \\\n",
       "43                  longest-substring-no-repeating.md                     43   \n",
       "15                       dynamic-programming-intro.md                     15   \n",
       "63                                  site-advancing.md                     63   \n",
       "17           envisioning-an-larger-blogging-system.md                     17   \n",
       "54             new-changes-in-beyondstars-20-07-04.md                     54   \n",
       "..                                                ...                    ...   \n",
       "25                                        how-fast.md                     25   \n",
       "4   authorship-homogeneous-test-based-on-text-segm...                      4   \n",
       "71                         traceroute-introduction.md                     71   \n",
       "3   association-rules-mining-and-apriori-algorithm.md                      3   \n",
       "27                     hugo-remove-tags-in-sitemap.md                     27   \n",
       "\n",
       "       match_val  \n",
       "43  9.103343e-01  \n",
       "15  2.812571e-01  \n",
       "63  2.040482e-01  \n",
       "17  1.887953e-01  \n",
       "54  1.216020e-01  \n",
       "..           ...  \n",
       "25  1.536989e-17  \n",
       "4   1.479596e-17  \n",
       "71  1.191981e-17  \n",
       "3   1.059323e-17  \n",
       "27  2.844330e-18  \n",
       "\n",
       "[73 rows x 3 columns]"
      ]
     },
     "execution_count": 61,
     "metadata": {},
     "output_type": "execute_result"
    }
   ],
   "source": [
    "do_query_by_words(['动态', '规划'], article, doc_coords, v, col_mapper)"
   ]
  },
  {
   "cell_type": "code",
   "execution_count": null,
   "metadata": {},
   "outputs": [],
   "source": []
  }
 ],
 "metadata": {
  "kernelspec": {
   "display_name": "Python 3",
   "language": "python",
   "name": "python3"
  },
  "language_info": {
   "codemirror_mode": {
    "name": "ipython",
    "version": 3
   },
   "file_extension": ".py",
   "mimetype": "text/x-python",
   "name": "python",
   "nbconvert_exporter": "python",
   "pygments_lexer": "ipython3",
   "version": "3.8.5"
  }
 },
 "nbformat": 4,
 "nbformat_minor": 4
}
