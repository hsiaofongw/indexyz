{
 "cells": [
  {
   "cell_type": "code",
   "execution_count": 4,
   "metadata": {},
   "outputs": [],
   "source": [
    "import pandas as pd\n",
    "import numpy as np\n",
    "import re\n",
    "import time\n",
    "import matplotlib.pyplot as plt\n",
    "from sklearn.cluster import AgglomerativeClustering\n",
    "from tqdm import tqdm"
   ]
  },
  {
   "cell_type": "code",
   "execution_count": 5,
   "metadata": {},
   "outputs": [],
   "source": [
    "term_indexes = pd.read_csv('termdocmatrix/term_indexes.csv')"
   ]
  },
  {
   "cell_type": "code",
   "execution_count": 78,
   "metadata": {},
   "outputs": [],
   "source": [
    "def no_punctuations_or_letters_or_digits_Q(word):\n",
    "    \n",
    "    # if word is not str, then False\n",
    "    if not (type(word) is str):\n",
    "        return False\n",
    "    \n",
    "    # if word has digits, letters or punctuations\n",
    "    result = re.search(\n",
    "        '[' +\n",
    "        '\\u2000-\\u206F' +\n",
    "        '\\u0000-\\u002F' +\n",
    "        '\\u003A-\\u0040' +\n",
    "        '\\u005B-\\u0060' +\n",
    "        '\\u007B-\\u007F' +\n",
    "        '\\u0080-\\u00FF' +\n",
    "        '\\uFF00-\\uFF0F' +\n",
    "        '\\u3000-\\u303F' +\n",
    "        '\\u0030-\\u0039' +\n",
    "        '\\u0040-\\u007F' +\n",
    "        ']',\n",
    "        word\n",
    "    )\n",
    "    \n",
    "    if result is None:\n",
    "        return True\n",
    "    else:\n",
    "        return False"
   ]
  },
  {
   "cell_type": "code",
   "execution_count": 79,
   "metadata": {},
   "outputs": [],
   "source": [
    "def length_equal_or_greater_than_2_Q(word):\n",
    "    return len(word) >= 2"
   ]
  },
  {
   "cell_type": "code",
   "execution_count": 83,
   "metadata": {},
   "outputs": [],
   "source": [
    "all_indexes = list(range(0, term_indexes.shape[0]))\n",
    "\n",
    "def pass_rule(x):\n",
    "    \n",
    "    if not no_punctuations_or_letters_or_digits_Q(x):\n",
    "        return False\n",
    "    \n",
    "    if not length_equal_or_greater_than_2_Q(x):\n",
    "        return False\n",
    "    \n",
    "    return True\n",
    "    \n",
    "selected_indexes = list(filter(\n",
    "    lambda i: pass_rule(term_indexes.iloc[i, 0]),\n",
    "    all_indexes\n",
    "))"
   ]
  },
  {
   "cell_type": "code",
   "execution_count": 85,
   "metadata": {},
   "outputs": [
    {
     "data": {
      "text/html": [
       "<div>\n",
       "<style scoped>\n",
       "    .dataframe tbody tr th:only-of-type {\n",
       "        vertical-align: middle;\n",
       "    }\n",
       "\n",
       "    .dataframe tbody tr th {\n",
       "        vertical-align: top;\n",
       "    }\n",
       "\n",
       "    .dataframe thead th {\n",
       "        text-align: right;\n",
       "    }\n",
       "</style>\n",
       "<table border=\"1\" class=\"dataframe\">\n",
       "  <thead>\n",
       "    <tr style=\"text-align: right;\">\n",
       "      <th></th>\n",
       "      <th>term</th>\n",
       "    </tr>\n",
       "  </thead>\n",
       "  <tbody>\n",
       "    <tr>\n",
       "      <th>5</th>\n",
       "      <td>问题</td>\n",
       "    </tr>\n",
       "    <tr>\n",
       "      <th>7</th>\n",
       "      <td>分支</td>\n",
       "    </tr>\n",
       "    <tr>\n",
       "      <th>8</th>\n",
       "      <td>定界</td>\n",
       "    </tr>\n",
       "    <tr>\n",
       "      <th>9</th>\n",
       "      <td>求解</td>\n",
       "    </tr>\n",
       "    <tr>\n",
       "      <th>10</th>\n",
       "      <td>思路</td>\n",
       "    </tr>\n",
       "    <tr>\n",
       "      <th>...</th>\n",
       "      <td>...</td>\n",
       "    </tr>\n",
       "    <tr>\n",
       "      <th>14906</th>\n",
       "      <td>发向</td>\n",
       "    </tr>\n",
       "    <tr>\n",
       "      <th>14915</th>\n",
       "      <td>获知</td>\n",
       "    </tr>\n",
       "    <tr>\n",
       "      <th>14955</th>\n",
       "      <td>自制</td>\n",
       "    </tr>\n",
       "    <tr>\n",
       "      <th>14973</th>\n",
       "      <td>没有用</td>\n",
       "    </tr>\n",
       "    <tr>\n",
       "      <th>14978</th>\n",
       "      <td>后会</td>\n",
       "    </tr>\n",
       "  </tbody>\n",
       "</table>\n",
       "<p>5173 rows × 1 columns</p>\n",
       "</div>"
      ],
      "text/plain": [
       "      term\n",
       "5       问题\n",
       "7       分支\n",
       "8       定界\n",
       "9       求解\n",
       "10      思路\n",
       "...    ...\n",
       "14906   发向\n",
       "14915   获知\n",
       "14955   自制\n",
       "14973  没有用\n",
       "14978   后会\n",
       "\n",
       "[5173 rows x 1 columns]"
      ]
     },
     "execution_count": 85,
     "metadata": {},
     "output_type": "execute_result"
    }
   ],
   "source": [
    "term_indexes.iloc[selected_indexes, :]"
   ]
  },
  {
   "cell_type": "code",
   "execution_count": 64,
   "metadata": {},
   "outputs": [],
   "source": [
    "words = pure_words.iloc[selected_indexes]"
   ]
  },
  {
   "cell_type": "code",
   "execution_count": 65,
   "metadata": {},
   "outputs": [
    {
     "data": {
      "text/html": [
       "<div>\n",
       "<style scoped>\n",
       "    .dataframe tbody tr th:only-of-type {\n",
       "        vertical-align: middle;\n",
       "    }\n",
       "\n",
       "    .dataframe tbody tr th {\n",
       "        vertical-align: top;\n",
       "    }\n",
       "\n",
       "    .dataframe thead th {\n",
       "        text-align: right;\n",
       "    }\n",
       "</style>\n",
       "<table border=\"1\" class=\"dataframe\">\n",
       "  <thead>\n",
       "    <tr style=\"text-align: right;\">\n",
       "      <th></th>\n",
       "      <th>term</th>\n",
       "    </tr>\n",
       "  </thead>\n",
       "  <tbody>\n",
       "  </tbody>\n",
       "</table>\n",
       "</div>"
      ],
      "text/plain": [
       "Empty DataFrame\n",
       "Columns: [term]\n",
       "Index: []"
      ]
     },
     "execution_count": 65,
     "metadata": {},
     "output_type": "execute_result"
    }
   ],
   "source": [
    "words"
   ]
  },
  {
   "cell_type": "code",
   "execution_count": 100,
   "metadata": {},
   "outputs": [],
   "source": [
    "words.to_csv(path_or_buf='termdocmatrix/words.csv', index=False)"
   ]
  },
  {
   "cell_type": "code",
   "execution_count": 3,
   "metadata": {},
   "outputs": [],
   "source": [
    "double_words = double_words.sort_values(\n",
    "    by = 'count', \n",
    "    ascending=False\n",
    ")"
   ]
  },
  {
   "cell_type": "code",
   "execution_count": 106,
   "metadata": {},
   "outputs": [],
   "source": [
    "doc_matrix_full = np.loadtxt('termdocmatrix/matrix.txt', delimiter=',')\n",
    "doc_matrix = doc_matrix_full[:, double_words.iloc[:, 0]]"
   ]
  },
  {
   "cell_type": "code",
   "execution_count": 108,
   "metadata": {},
   "outputs": [
    {
     "data": {
      "text/plain": [
       "(73, 6012)"
      ]
     },
     "execution_count": 108,
     "metadata": {},
     "output_type": "execute_result"
    }
   ],
   "source": [
    "doc_matrix.shape"
   ]
  },
  {
   "cell_type": "code",
   "execution_count": 347,
   "metadata": {},
   "outputs": [],
   "source": [
    "idf = np.log(doc_matrix.shape[0]/np.count_nonzero(doc_matrix, axis = 0))"
   ]
  },
  {
   "cell_type": "code",
   "execution_count": 352,
   "metadata": {},
   "outputs": [
    {
     "data": {
      "text/plain": [
       "(6012,)"
      ]
     },
     "execution_count": 352,
     "metadata": {},
     "output_type": "execute_result"
    }
   ],
   "source": [
    "idf.shape"
   ]
  },
  {
   "cell_type": "code",
   "execution_count": 349,
   "metadata": {},
   "outputs": [],
   "source": [
    "tf_idf = doc_matrix * idf "
   ]
  },
  {
   "cell_type": "code",
   "execution_count": 369,
   "metadata": {},
   "outputs": [],
   "source": [
    "nonzeros = np.count_nonzero(tf_idf, axis=1) != 0"
   ]
  },
  {
   "cell_type": "code",
   "execution_count": 390,
   "metadata": {},
   "outputs": [],
   "source": [
    "normalization_factor = np.tile(np.sum(tf_idf[nonzeros, :], axis = 1), reps=[ doc_matrix.shape[1], 1 ]).T"
   ]
  },
  {
   "cell_type": "code",
   "execution_count": 391,
   "metadata": {},
   "outputs": [],
   "source": [
    "tf_idf[nonzeros, :] = tf_idf[nonzeros, :]/normalization_factor"
   ]
  },
  {
   "cell_type": "code",
   "execution_count": 392,
   "metadata": {},
   "outputs": [
    {
     "data": {
      "text/plain": [
       "array([[0.        , 0.00106671, 0.        , ..., 0.        , 0.        ,\n",
       "        0.        ],\n",
       "       [0.        , 0.        , 0.        , ..., 0.        , 0.        ,\n",
       "        0.        ],\n",
       "       [0.        , 0.0032015 , 0.        , ..., 0.        , 0.        ,\n",
       "        0.        ],\n",
       "       ...,\n",
       "       [0.        , 0.        , 0.        , ..., 0.        , 0.        ,\n",
       "        0.        ],\n",
       "       [0.        , 0.        , 0.        , ..., 0.        , 0.        ,\n",
       "        0.        ],\n",
       "       [0.        , 0.        , 0.        , ..., 0.        , 0.        ,\n",
       "        0.        ]])"
      ]
     },
     "execution_count": 392,
     "metadata": {},
     "output_type": "execute_result"
    }
   ],
   "source": [
    "tf_idf"
   ]
  },
  {
   "cell_type": "code",
   "execution_count": 436,
   "metadata": {},
   "outputs": [
    {
     "data": {
      "text/plain": [
       "((73, 73), (73,), (73, 6012))"
      ]
     },
     "execution_count": 436,
     "metadata": {},
     "output_type": "execute_result"
    }
   ],
   "source": [
    "u, s, vh = np.linalg.svd(tf_idf, full_matrices=False)\n",
    "u.shape, s.shape, vh.shape"
   ]
  },
  {
   "cell_type": "code",
   "execution_count": 396,
   "metadata": {},
   "outputs": [
    {
     "data": {
      "text/plain": [
       "((73, 20), (20,), (20, 6012))"
      ]
     },
     "execution_count": 396,
     "metadata": {},
     "output_type": "execute_result"
    }
   ],
   "source": [
    "truncate_factor = 20\n",
    "u = u[:, 0:truncate_factor]\n",
    "s = s[range(truncate_factor)]\n",
    "vh = vh[0:truncate_factor, :]\n",
    "u.shape, s.shape, vh.shape"
   ]
  },
  {
   "cell_type": "code",
   "execution_count": 397,
   "metadata": {},
   "outputs": [
    {
     "data": {
      "text/plain": [
       "0.4996914442851216"
      ]
     },
     "execution_count": 397,
     "metadata": {},
     "output_type": "execute_result"
    }
   ],
   "source": [
    "np.sum((tf_idf - np.matmul(np.matmul(u, np.diag(s)), vh))**2)"
   ]
  },
  {
   "cell_type": "code",
   "execution_count": 406,
   "metadata": {},
   "outputs": [],
   "source": [
    "doc_coords = np.matmul(u, np.diag(s))\n",
    "term_coords = np.matmul(np.diag(s), vh).T"
   ]
  },
  {
   "cell_type": "code",
   "execution_count": 408,
   "metadata": {},
   "outputs": [],
   "source": [
    "articles = pd.read_csv('termdocmatrix/index_to_article.csv')"
   ]
  },
  {
   "cell_type": "code",
   "execution_count": 399,
   "metadata": {},
   "outputs": [],
   "source": [
    "terms = pd.read_csv('termdocmatrix/index_to_word.csv')"
   ]
  },
  {
   "cell_type": "code",
   "execution_count": 419,
   "metadata": {},
   "outputs": [],
   "source": [
    "n_clusters = 3\n",
    "\n",
    "clusterer_trainer_average = AgglomerativeClustering(\n",
    "    n_clusters = n_clusters,\n",
    "    affinity = 'cosine',\n",
    "    linkage = 'average'\n",
    ")\n",
    "\n",
    "clusterer_trainer_single = AgglomerativeClustering(\n",
    "    n_clusters = n_clusters,\n",
    "    affinity = 'cosine',\n",
    "    linkage = 'single'\n",
    ")\n",
    "\n",
    "clusterer_trainer_complete = AgglomerativeClustering(\n",
    "    n_clusters = n_clusters,\n",
    "    affinity = 'cosine',\n",
    "    linkage = 'complete'\n",
    ") "
   ]
  },
  {
   "cell_type": "code",
   "execution_count": 420,
   "metadata": {},
   "outputs": [],
   "source": [
    "model_average = clusterer_trainer_average.fit(doc_coords)\n",
    "model_single = clusterer_trainer_single.fit(doc_coords)\n",
    "model_complete = clusterer_trainer_complete.fit(doc_coords)"
   ]
  },
  {
   "cell_type": "code",
   "execution_count": 427,
   "metadata": {},
   "outputs": [
    {
     "data": {
      "text/plain": [
       "0             4sum-problem-branch-and-bound-solution.md\n",
       "1               a-layout-algorithm-for-equal-returns.md\n",
       "2                        add-your-site-cache-control.md\n",
       "3     association-rules-mining-and-apriori-algorithm.md\n",
       "5                              aws-budget-bill-alert.md\n",
       "                            ...                        \n",
       "68                                symlink-vs-harlink.md\n",
       "69                       talk-about-my-recent-doings.md\n",
       "70    telling-static-file-accelerating-and-whole-sit...\n",
       "71                           traceroute-introduction.md\n",
       "72                                    vscode-linting.md\n",
       "Name: article, Length: 71, dtype: object"
      ]
     },
     "execution_count": 427,
     "metadata": {},
     "output_type": "execute_result"
    }
   ],
   "source": []
  },
  {
   "cell_type": "code",
   "execution_count": 432,
   "metadata": {},
   "outputs": [],
   "source": [
    "def words_cluster(n, model):\n",
    "    return terms.iloc[(double_words.iloc[:, 0])[model.labels_==n], :].iloc[:,1].to_numpy()\n",
    "\n",
    "def docs_cluster(n, model):\n",
    "    return articles.iloc[model.labels_ == n, 1]\n",
    "\n",
    "def output_to_file(filename = None, model = None):\n",
    "    output_str = str()\n",
    "    for i in range(0, n_clusters):\n",
    "        output_str = output_str + 'n_cluster: ' + str(i) + '\\n\\n'\n",
    "\n",
    "        words_in_this_cluster = docs_cluster(i, model)\n",
    "        for word in words_in_this_cluster:\n",
    "            output_str = output_str + word + '; \\n'\n",
    "\n",
    "        output_str = output_str + '\\n\\n'\n",
    "\n",
    "\n",
    "    f = open(filename, 'w')\n",
    "    f.write(output_str)\n",
    "    f.close"
   ]
  },
  {
   "cell_type": "code",
   "execution_count": 433,
   "metadata": {},
   "outputs": [],
   "source": [
    "output_to_file(\n",
    "    filename = 'clusters_average.txt',\n",
    "    model = model_average\n",
    ")"
   ]
  },
  {
   "cell_type": "code",
   "execution_count": 434,
   "metadata": {},
   "outputs": [],
   "source": [
    "output_to_file(\n",
    "    filename = 'clusters_single.txt',\n",
    "    model = model_single\n",
    ")"
   ]
  },
  {
   "cell_type": "code",
   "execution_count": 435,
   "metadata": {},
   "outputs": [],
   "source": [
    "output_to_file(\n",
    "    filename = 'clusters_complete.txt',\n",
    "    model = model_complete\n",
    ")"
   ]
  },
  {
   "cell_type": "code",
   "execution_count": null,
   "metadata": {},
   "outputs": [],
   "source": []
  }
 ],
 "metadata": {
  "kernelspec": {
   "display_name": "Python 3",
   "language": "python",
   "name": "python3"
  },
  "language_info": {
   "codemirror_mode": {
    "name": "ipython",
    "version": 3
   },
   "file_extension": ".py",
   "mimetype": "text/x-python",
   "name": "python",
   "nbconvert_exporter": "python",
   "pygments_lexer": "ipython3",
   "version": "3.8.5"
  }
 },
 "nbformat": 4,
 "nbformat_minor": 4
}
