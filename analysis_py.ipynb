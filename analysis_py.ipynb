{
 "cells": [
  {
   "cell_type": "code",
   "execution_count": 90,
   "metadata": {},
   "outputs": [],
   "source": [
    "import pandas as pd\n",
    "import numpy as np\n",
    "import re\n",
    "import time\n",
    "import matplotlib.pyplot as plt\n",
    "from sklearn.cluster import AgglomerativeClustering"
   ]
  },
  {
   "cell_type": "code",
   "execution_count": 91,
   "metadata": {},
   "outputs": [],
   "source": [
    "words = pd.read_csv('termdocmatrix/index_to_word.csv')"
   ]
  },
  {
   "cell_type": "code",
   "execution_count": 92,
   "metadata": {},
   "outputs": [],
   "source": [
    "puncs_indexes = list()\n",
    "for i in range(0, words.shape[0]):\n",
    "    word = words.iloc[i, 1]\n",
    "    if not (type(word) is str):\n",
    "        puncs_indexes.append(i)\n",
    "        continue\n",
    "    \n",
    "    result = re.search(\n",
    "        '[' +\n",
    "        '\\u2000-\\u206F' +\n",
    "        '\\u0000-\\u002F' +\n",
    "        '\\u003A-\\u0040' +\n",
    "        '\\u005B-\\u0060' +\n",
    "        '\\u007B-\\u007F' +\n",
    "        '\\u0080-\\u00FF' +\n",
    "        '\\uFF00-\\uFF0F' +\n",
    "        '\\u3000-\\u303F' +\n",
    "        '\\u0030-\\u0039' +\n",
    "        '\\u0040-\\u007F' +\n",
    "        ']',\n",
    "        words.iloc[i, 1]\n",
    "    )\n",
    "        \n",
    "    if not (result is None):\n",
    "        puncs_indexes.append(i)"
   ]
  },
  {
   "cell_type": "code",
   "execution_count": 93,
   "metadata": {},
   "outputs": [
    {
     "data": {
      "text/plain": [
       "5202"
      ]
     },
     "execution_count": 93,
     "metadata": {},
     "output_type": "execute_result"
    }
   ],
   "source": [
    "len(puncs_indexes)"
   ]
  },
  {
   "cell_type": "code",
   "execution_count": 94,
   "metadata": {},
   "outputs": [],
   "source": [
    "pure_word_indexes = list()\n",
    "puncs_indexes_set = set(puncs_indexes)\n",
    "for i in range(0, words.shape[0]):\n",
    "    if not (i in puncs_indexes_set):\n",
    "        pure_word_indexes.append(i)"
   ]
  },
  {
   "cell_type": "code",
   "execution_count": 95,
   "metadata": {},
   "outputs": [],
   "source": [
    "pure_words = words.iloc[pure_word_indexes]"
   ]
  },
  {
   "cell_type": "code",
   "execution_count": 96,
   "metadata": {},
   "outputs": [],
   "source": [
    "double_word_indexes = list()\n",
    "for i in range(0, pure_words.shape[0]):\n",
    "    if len(pure_words.iloc[i, 1]) >= 2:\n",
    "        double_word_indexes.append(i)"
   ]
  },
  {
   "cell_type": "code",
   "execution_count": 99,
   "metadata": {},
   "outputs": [],
   "source": [
    "words = pure_words.iloc[double_word_indexes]"
   ]
  },
  {
   "cell_type": "code",
   "execution_count": 100,
   "metadata": {},
   "outputs": [],
   "source": [
    "words.to_csv(path_or_buf='termdocmatrix/words.csv', index=False)"
   ]
  },
  {
   "cell_type": "code",
   "execution_count": 3,
   "metadata": {},
   "outputs": [],
   "source": [
    "double_words = double_words.sort_values(\n",
    "    by = 'count', \n",
    "    ascending=False\n",
    ")"
   ]
  },
  {
   "cell_type": "code",
   "execution_count": 106,
   "metadata": {},
   "outputs": [],
   "source": [
    "doc_matrix_full = np.loadtxt('termdocmatrix/matrix.txt', delimiter=',')\n",
    "doc_matrix = doc_matrix_full[:, double_words.iloc[:, 0]]"
   ]
  },
  {
   "cell_type": "code",
   "execution_count": 108,
   "metadata": {},
   "outputs": [
    {
     "data": {
      "text/plain": [
       "(73, 6012)"
      ]
     },
     "execution_count": 108,
     "metadata": {},
     "output_type": "execute_result"
    }
   ],
   "source": [
    "doc_matrix.shape"
   ]
  },
  {
   "cell_type": "code",
   "execution_count": 109,
   "metadata": {},
   "outputs": [],
   "source": [
    "normalization_factor = np.sum(doc_matrix, axis = 0)"
   ]
  },
  {
   "cell_type": "code",
   "execution_count": 117,
   "metadata": {},
   "outputs": [],
   "source": [
    "idf = np.log(doc_matrix.shape[0]/np.count_nonzero(doc_matrix, axis = 0))"
   ]
  },
  {
   "cell_type": "code",
   "execution_count": 118,
   "metadata": {},
   "outputs": [],
   "source": [
    "tf_idf = doc_matrix * idf / normalization_factor"
   ]
  },
  {
   "cell_type": "code",
   "execution_count": 306,
   "metadata": {},
   "outputs": [
    {
     "data": {
      "text/plain": [
       "((73, 20), (20,), (20, 6012))"
      ]
     },
     "execution_count": 306,
     "metadata": {},
     "output_type": "execute_result"
    }
   ],
   "source": [
    "u, s, vh = np.linalg.svd(tf_idf, full_matrices=False)\n",
    "u.shape, s.shape, vh.shape\n",
    "\n",
    "truncate_factor = 20\n",
    "u = u[:, 0:truncate_factor]\n",
    "s = s[range(truncate_factor)]\n",
    "vh = vh[0:truncate_factor, :]\n",
    "u.shape, s.shape, vh.shape"
   ]
  },
  {
   "cell_type": "code",
   "execution_count": 307,
   "metadata": {},
   "outputs": [
    {
     "data": {
      "text/plain": [
       "25612.44969053936"
      ]
     },
     "execution_count": 307,
     "metadata": {},
     "output_type": "execute_result"
    }
   ],
   "source": [
    "np.sum((tf_idf - np.matmul(np.matmul(u, np.diag(s)), vh))**2)"
   ]
  },
  {
   "cell_type": "code",
   "execution_count": 308,
   "metadata": {},
   "outputs": [],
   "source": [
    "term_coords = np.matmul(np.diag(s), vh).T"
   ]
  },
  {
   "cell_type": "code",
   "execution_count": 309,
   "metadata": {},
   "outputs": [],
   "source": [
    "terms = pd.read_csv('termdocmatrix/index_to_word.csv')"
   ]
  },
  {
   "cell_type": "code",
   "execution_count": 314,
   "metadata": {},
   "outputs": [],
   "source": [
    "n_clusters = 1000\n",
    "\n",
    "clusterer_trainer_average = AgglomerativeClustering(\n",
    "    n_clusters = n_clusters,\n",
    "    affinity = 'cosine',\n",
    "    linkage = 'average'\n",
    ")\n",
    "\n",
    "clusterer_trainer_single = AgglomerativeClustering(\n",
    "    n_clusters = n_clusters,\n",
    "    affinity = 'cosine',\n",
    "    linkage = 'single'\n",
    ")\n",
    "\n",
    "clusterer_trainer_complete = AgglomerativeClustering(\n",
    "    n_clusters = n_clusters,\n",
    "    affinity = 'cosine',\n",
    "    linkage = 'complete'\n",
    ") "
   ]
  },
  {
   "cell_type": "code",
   "execution_count": 316,
   "metadata": {},
   "outputs": [],
   "source": [
    "model_average = clusterer_trainer_average.fit(term_coords)\n",
    "model_single = clusterer_trainer_single.fit(term_coords)\n",
    "model_complete = clusterer_trainer_complete.fit(term_coords)"
   ]
  },
  {
   "cell_type": "code",
   "execution_count": 318,
   "metadata": {},
   "outputs": [],
   "source": [
    "def words_cluster(n, model):\n",
    "    return terms.iloc[(double_words.iloc[:, 0])[model.labels_==n], :].iloc[:,1].to_numpy()\n",
    "\n",
    "def output_to_file(filename = None, model = None):\n",
    "    output_str = str()\n",
    "    for i in range(0, n_clusters):\n",
    "        output_str = output_str + 'n_cluster: ' + str(i) + '\\n\\n'\n",
    "\n",
    "        words_in_this_cluster = words_cluster(i, model)\n",
    "        for word in words_in_this_cluster:\n",
    "            output_str = output_str + word + ', '\n",
    "\n",
    "        output_str = output_str + '\\n\\n'\n",
    "\n",
    "\n",
    "    f = open(filename, 'w')\n",
    "    f.write(output_str)\n",
    "    f.close"
   ]
  },
  {
   "cell_type": "code",
   "execution_count": 319,
   "metadata": {},
   "outputs": [],
   "source": [
    "output_to_file(\n",
    "    filename = 'clusters_average.txt',\n",
    "    model = model_average\n",
    ")"
   ]
  },
  {
   "cell_type": "code",
   "execution_count": 320,
   "metadata": {},
   "outputs": [],
   "source": [
    "output_to_file(\n",
    "    filename = 'clusters_single.txt',\n",
    "    model = model_single\n",
    ")"
   ]
  },
  {
   "cell_type": "code",
   "execution_count": null,
   "metadata": {},
   "outputs": [],
   "source": [
    "output_to_file(\n",
    "    filename = 'clusters_complete.txt',\n",
    "    model = model_complete\n",
    ")"
   ]
  },
  {
   "cell_type": "code",
   "execution_count": null,
   "metadata": {},
   "outputs": [],
   "source": []
  }
 ],
 "metadata": {
  "kernelspec": {
   "display_name": "Python 3",
   "language": "python",
   "name": "python3"
  },
  "language_info": {
   "codemirror_mode": {
    "name": "ipython",
    "version": 3
   },
   "file_extension": ".py",
   "mimetype": "text/x-python",
   "name": "python",
   "nbconvert_exporter": "python",
   "pygments_lexer": "ipython3",
   "version": "3.8.5"
  }
 },
 "nbformat": 4,
 "nbformat_minor": 4
}
