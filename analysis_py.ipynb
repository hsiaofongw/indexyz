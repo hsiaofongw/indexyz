{
 "cells": [
  {
   "cell_type": "code",
   "execution_count": 275,
   "metadata": {},
   "outputs": [],
   "source": [
    "import pandas as pd\n",
    "import numpy as np\n",
    "import re\n",
    "import time\n",
    "import matplotlib.pyplot as plt\n",
    "from sklearn.cluster import AgglomerativeClustering\n",
    "from tqdm import tqdm\n",
    "import pkuseg"
   ]
  },
  {
   "cell_type": "code",
   "execution_count": 135,
   "metadata": {},
   "outputs": [],
   "source": [
    "term_indexes = pd.read_csv('termdocmatrix/term_indexes.csv')"
   ]
  },
  {
   "cell_type": "code",
   "execution_count": 321,
   "metadata": {},
   "outputs": [],
   "source": [
    "def no_punctuations_or_letters_or_digits_Q(word):\n",
    "    \n",
    "    # if word is not str, then False\n",
    "    if not (type(word) is str):\n",
    "        return False\n",
    "    \n",
    "    # if word has digits, letters or punctuations\n",
    "    result = re.search(\n",
    "        '[' +\n",
    "        '\\u2000-\\u206F' +  # 一般的符号\n",
    "        '\\u0000-\\u002F' +  # 符号\n",
    "        '\\u003A-\\u0040' +  # 符号\n",
    "        '\\u005B-\\u0060' +  # 符号\n",
    "        '\\u007B-\\u007F' +  # 符号\n",
    "        '\\uFF00-\\uFFEF' +  # 全角字符\n",
    "        '\\u3000-\\u303F' +  # 中文标点\n",
    "        ']',\n",
    "        word\n",
    "    )\n",
    "    \n",
    "    if result is None:\n",
    "        return True\n",
    "    else:\n",
    "        return False"
   ]
  },
  {
   "cell_type": "code",
   "execution_count": 322,
   "metadata": {},
   "outputs": [],
   "source": [
    "def length_equal_or_greater_than_2_Q(word):\n",
    "    return len(word) >= 2"
   ]
  },
  {
   "cell_type": "code",
   "execution_count": 327,
   "metadata": {},
   "outputs": [],
   "source": [
    "all_indexes = list(range(0, term_indexes.shape[0]))\n",
    "\n",
    "def pass_rule(x):\n",
    "    \n",
    "    if not no_punctuations_or_letters_or_digits_Q(x):\n",
    "        return False\n",
    "    \n",
    "    if not length_equal_or_greater_than_2_Q(x):\n",
    "        return False\n",
    "    \n",
    "    return True\n",
    "    \n",
    "selected_indexes = list(filter(\n",
    "    lambda i: pass_rule(term_indexes.iloc[i, 0]),\n",
    "    all_indexes\n",
    "))"
   ]
  },
  {
   "cell_type": "code",
   "execution_count": 328,
   "metadata": {},
   "outputs": [],
   "source": [
    "term_indexes.iloc[selected_indexes, :].to_csv('termdocmatrix/selected_terms.csv', index=False)"
   ]
  },
  {
   "cell_type": "code",
   "execution_count": 87,
   "metadata": {},
   "outputs": [],
   "source": [
    "doc_matrix_full = np.loadtxt('termdocmatrix/doc_matrix.txt', delimiter=',')\n",
    "doc_matrix = doc_matrix_full[:, selected_indexes]"
   ]
  },
  {
   "cell_type": "code",
   "execution_count": 313,
   "metadata": {},
   "outputs": [
    {
     "data": {
      "text/plain": [
       "array([1341., 2110.,  857., 1189.,    8.,  518., 1221., 2084., 2967.,\n",
       "       1248., 1989.,    5.,  400.,  885.,  581., 1195., 1741.,  842.,\n",
       "        184.,  102.,   64., 1881., 3457.,  708.,  194.,    9.,  380.,\n",
       "        102.,  639.,  347., 1019.,  584.,  401.,  215.,  902.,  436.,\n",
       "        124.,    0.,  381.,  606., 1331.,   22.,  812.,  957.,   16.,\n",
       "        741., 2192.,   68.,  558.,  795., 1516., 1810.,  813.,  878.,\n",
       "        947., 4083.,   46.,  219.,  834.,   51.,  400., 3255., 1490.,\n",
       "         77.,  671.,  904.,  966.,   51.,  919., 1318., 1377.,  556.,\n",
       "         92.])"
      ]
     },
     "execution_count": 313,
     "metadata": {},
     "output_type": "execute_result"
    }
   ],
   "source": [
    "np.sum(doc_matrix, axis=1)"
   ]
  },
  {
   "cell_type": "code",
   "execution_count": 88,
   "metadata": {},
   "outputs": [
    {
     "data": {
      "text/plain": [
       "(73, 5173)"
      ]
     },
     "execution_count": 88,
     "metadata": {},
     "output_type": "execute_result"
    }
   ],
   "source": [
    "doc_matrix.shape"
   ]
  },
  {
   "cell_type": "code",
   "execution_count": 95,
   "metadata": {},
   "outputs": [],
   "source": [
    "idf = np.log(doc_matrix.shape[0]/np.count_nonzero(doc_matrix, axis = 0))"
   ]
  },
  {
   "cell_type": "code",
   "execution_count": 96,
   "metadata": {},
   "outputs": [],
   "source": [
    "tf_idf = doc_matrix * idf "
   ]
  },
  {
   "cell_type": "code",
   "execution_count": 104,
   "metadata": {},
   "outputs": [],
   "source": [
    "nonzeros = np.count_nonzero(tf_idf, axis=1) != 0"
   ]
  },
  {
   "cell_type": "code",
   "execution_count": 105,
   "metadata": {},
   "outputs": [],
   "source": [
    "normalization_factor = np.tile(np.sum(tf_idf[nonzeros, :], axis = 1), reps=[ doc_matrix.shape[1], 1 ]).T"
   ]
  },
  {
   "cell_type": "code",
   "execution_count": 106,
   "metadata": {},
   "outputs": [],
   "source": [
    "tf_idf[nonzeros, :] = tf_idf[nonzeros, :]/normalization_factor"
   ]
  },
  {
   "cell_type": "code",
   "execution_count": 107,
   "metadata": {},
   "outputs": [
    {
     "data": {
      "text/plain": [
       "array([[0.00553897, 0.0246926 , 0.01955867, ..., 0.        , 0.        ,\n",
       "        0.        ],\n",
       "       [0.00027235, 0.        , 0.        , ..., 0.        , 0.        ,\n",
       "        0.        ],\n",
       "       [0.0006781 , 0.        , 0.        , ..., 0.        , 0.        ,\n",
       "        0.        ],\n",
       "       ...,\n",
       "       [0.        , 0.        , 0.        , ..., 0.        , 0.        ,\n",
       "        0.        ],\n",
       "       [0.        , 0.        , 0.        , ..., 0.01252998, 0.        ,\n",
       "        0.        ],\n",
       "       [0.00399856, 0.        , 0.        , ..., 0.        , 0.03388642,\n",
       "        0.03388642]])"
      ]
     },
     "execution_count": 107,
     "metadata": {},
     "output_type": "execute_result"
    }
   ],
   "source": [
    "tf_idf"
   ]
  },
  {
   "cell_type": "code",
   "execution_count": 128,
   "metadata": {},
   "outputs": [
    {
     "data": {
      "text/plain": [
       "((73, 73), (73,), (73, 5173))"
      ]
     },
     "execution_count": 128,
     "metadata": {},
     "output_type": "execute_result"
    }
   ],
   "source": [
    "u, s, vh = np.linalg.svd(tf_idf, full_matrices=False)\n",
    "u.shape, s.shape, vh.shape"
   ]
  },
  {
   "cell_type": "code",
   "execution_count": 129,
   "metadata": {},
   "outputs": [
    {
     "data": {
      "text/plain": [
       "7.073832030958538e-30"
      ]
     },
     "execution_count": 129,
     "metadata": {},
     "output_type": "execute_result"
    }
   ],
   "source": [
    "np.sum((tf_idf - np.matmul(np.matmul(u, np.diag(s)), vh))**2)"
   ]
  },
  {
   "cell_type": "code",
   "execution_count": 170,
   "metadata": {},
   "outputs": [
    {
     "name": "stderr",
     "output_type": "stream",
     "text": [
      "<ipython-input-170-73b11d9ddaa2>:2: SettingWithCopyWarning: \n",
      "A value is trying to be set on a copy of a slice from a DataFrame.\n",
      "Try using .loc[row_indexer,col_indexer] = value instead\n",
      "\n",
      "See the caveats in the documentation: https://pandas.pydata.org/pandas-docs/stable/user_guide/indexing.html#returning-a-view-versus-a-copy\n",
      "  selected_terms['col_index_in_doc_matrix'] = np.array(range(0, doc_matrix.shape[1]))\n"
     ]
    }
   ],
   "source": [
    "selected_terms = term_indexes.iloc[selected_indexes, :]\n",
    "selected_terms['col_index_in_doc_matrix'] = np.array(range(0, doc_matrix.shape[1]))"
   ]
  },
  {
   "cell_type": "code",
   "execution_count": 289,
   "metadata": {},
   "outputs": [],
   "source": [
    "u,d,vh = np.linalg.svd(doc_matrix, full_matrices=True)"
   ]
  },
  {
   "cell_type": "code",
   "execution_count": 278,
   "metadata": {},
   "outputs": [],
   "source": [
    "seg = pkuseg.pkuseg()"
   ]
  },
  {
   "cell_type": "code",
   "execution_count": 279,
   "metadata": {},
   "outputs": [],
   "source": [
    "query_terms = seg.cut('网页缓存')"
   ]
  },
  {
   "cell_type": "code",
   "execution_count": 280,
   "metadata": {},
   "outputs": [
    {
     "data": {
      "text/plain": [
       "['网页', '缓存']"
      ]
     },
     "execution_count": 280,
     "metadata": {},
     "output_type": "execute_result"
    }
   ],
   "source": [
    "query_terms"
   ]
  },
  {
   "cell_type": "code",
   "execution_count": 286,
   "metadata": {},
   "outputs": [],
   "source": [
    "indexes_to_set = list()\n",
    "for term in query_terms:\n",
    "    correspond_indexes = selected_terms.iloc[selected_terms.iloc[:, 0].to_numpy() == term, :]\n",
    "    if correspond_indexes.shape[0]:\n",
    "        indexes_to_set.append(correspond_indexes.iloc[0, 1])"
   ]
  },
  {
   "cell_type": "code",
   "execution_count": 288,
   "metadata": {},
   "outputs": [],
   "source": [
    "query_row = np.array(range(doc_matrix.shape[1]))\n",
    "query_row[:] = 0\n",
    "for index_to_set in indexes_to_set:\n",
    "    query_row[index_to_set] = 1"
   ]
  },
  {
   "cell_type": "code",
   "execution_count": 290,
   "metadata": {},
   "outputs": [],
   "source": [
    "query_coord = np.matmul(query_row.reshape((1, doc_matrix.shape[1])), vh1.T)[0, 0:doc_matrix.shape[0]]\n",
    "doc_coords = np.matmul(doc_matrix, vh1.T)[:, 0:doc_matrix.shape[0]]"
   ]
  },
  {
   "cell_type": "code",
   "execution_count": 291,
   "metadata": {},
   "outputs": [],
   "source": [
    "def cos_of_two_vector(x1, x2):\n",
    "    n_x1 = np.linalg.norm(x1)\n",
    "    n_x2 = np.linalg.norm(x2)\n",
    "    inner_prod = np.abs(np.sum(x1 * x2))\n",
    "    return inner_prod / (n_x1 * n_x2)"
   ]
  },
  {
   "cell_type": "code",
   "execution_count": 293,
   "metadata": {},
   "outputs": [
    {
     "name": "stderr",
     "output_type": "stream",
     "text": [
      "<ipython-input-291-dcc94b03bc75>:5: RuntimeWarning: invalid value encountered in double_scalars\n",
      "  return inner_prod / (n_x1 * n_x2)\n"
     ]
    }
   ],
   "source": [
    "cos_of_query_and_docs = [cos_of_two_vector(coord, doc_coords[i,:]) for i in range(doc_coords.shape[0])]"
   ]
  },
  {
   "cell_type": "code",
   "execution_count": 309,
   "metadata": {},
   "outputs": [
    {
     "data": {
      "text/plain": [
       "[2.3132362493006597e-16,\n",
       " 0.007398161806718659,\n",
       " 0.7885719195177288,\n",
       " 2.6897202958542385e-16,\n",
       " 4.899329720416439e-17,\n",
       " 1.1881759827980173e-17,\n",
       " 0.012318763189771448,\n",
       " 0.20332744408799136,\n",
       " 0.004133441811905724,\n",
       " 3.2491792429161596e-16,\n",
       " 3.3506991792932823e-16,\n",
       " 1.5578600237784392e-16,\n",
       " 0.020578444687700752,\n",
       " 0.012948239477395873,\n",
       " 0.10444513208530037,\n",
       " 0.009880505571827675,\n",
       " 4.437921564084582e-16,\n",
       " 0.1317224140776608,\n",
       " 3.432004289563128e-17,\n",
       " 1.6338009787566354e-16,\n",
       " 6.295490638809145e-17,\n",
       " 1.5897409305238466e-16,\n",
       " 1.0426864022604856e-16,\n",
       " 3.516525769220923e-17,\n",
       " 0.0545999024913028,\n",
       " 8.795559671635933e-17,\n",
       " 5.842078162358262e-17,\n",
       " 0.06427562977040387,\n",
       " 0.06751842931971178,\n",
       " 2.0587006615862056e-16,\n",
       " 4.781647602759868e-16,\n",
       " 8.978382161134312e-16,\n",
       " 0.07026304525981104,\n",
       " 8.449848021069044e-17,\n",
       " 0.013623393366589659,\n",
       " 1.4499742149952298e-16,\n",
       " 1.6021658682268865e-16,\n",
       " nan,\n",
       " 1.562673248673795e-16,\n",
       " 1.0614289035574102e-16,\n",
       " 0.04011678116961417,\n",
       " 2.249493740021366e-16,\n",
       " 5.279404629040544e-16,\n",
       " 8.570954530266295e-17,\n",
       " 4.1441684160364944e-17,\n",
       " 7.509059705131991e-17,\n",
       " 2.998043852960554e-16,\n",
       " 2.9199559635078163e-16,\n",
       " 1.626942689189923e-17,\n",
       " 3.3421276918165256e-16,\n",
       " 9.23976942650215e-17,\n",
       " 1.774270078838581e-17,\n",
       " 3.206208395336732e-16,\n",
       " 2.0373625912400775e-16,\n",
       " 0.11511396878916644,\n",
       " 0.0063377188785803925,\n",
       " 9.108744979590621e-17,\n",
       " 3.418308956898916e-17,\n",
       " 0.03511546460180969,\n",
       " 3.117016415133954e-17,\n",
       " 0.05395237464036603,\n",
       " 0.6026830933606316,\n",
       " 1.179335146297841e-16,\n",
       " 0.07373684380502463,\n",
       " 0.08198491062137084,\n",
       " 3.1576167271068554e-16,\n",
       " 1.8755746723636133e-16,\n",
       " 5.448167325442123e-17,\n",
       " 1.0007322671709619e-20,\n",
       " 2.1242856481169833e-16,\n",
       " 0.18300555234731347,\n",
       " 2.0529897534411615e-16,\n",
       " 7.678703741657572e-17]"
      ]
     },
     "execution_count": 309,
     "metadata": {},
     "output_type": "execute_result"
    }
   ],
   "source": [
    "cos_of_query_and_docs"
   ]
  },
  {
   "cell_type": "code",
   "execution_count": null,
   "metadata": {},
   "outputs": [],
   "source": []
  }
 ],
 "metadata": {
  "kernelspec": {
   "display_name": "Python 3",
   "language": "python",
   "name": "python3"
  },
  "language_info": {
   "codemirror_mode": {
    "name": "ipython",
    "version": 3
   },
   "file_extension": ".py",
   "mimetype": "text/x-python",
   "name": "python",
   "nbconvert_exporter": "python",
   "pygments_lexer": "ipython3",
   "version": "3.8.5"
  }
 },
 "nbformat": 4,
 "nbformat_minor": 4
}
