{
 "cells": [
  {
   "cell_type": "code",
   "execution_count": 17,
   "id": "handled-enzyme",
   "metadata": {},
   "outputs": [],
   "source": [
    "from __future__ import annotations\n",
    "import pymongo\n",
    "import numpy as np\n",
    "import scipy as sp\n",
    "import scipy.sparse as sparse\n",
    "from scipy.sparse.linalg import svds\n",
    "import pandas as pd\n",
    "from analysis import Searcher"
   ]
  },
  {
   "cell_type": "code",
   "execution_count": 2,
   "id": "acting-heath",
   "metadata": {},
   "outputs": [],
   "source": [
    "def get_db():\n",
    "    dbname = \"indexyz\"\n",
    "    client = pymongo.MongoClient(f\"mongodb://127.0.0.1/{dbname}\")\n",
    "    db = client.indexyz\n",
    "    return db"
   ]
  },
  {
   "cell_type": "code",
   "execution_count": 3,
   "id": "logical-assessment",
   "metadata": {},
   "outputs": [],
   "source": [
    "db = get_db()"
   ]
  },
  {
   "cell_type": "code",
   "execution_count": 4,
   "id": "spoken-template",
   "metadata": {},
   "outputs": [],
   "source": [
    "webpages = db.webpages"
   ]
  },
  {
   "cell_type": "code",
   "execution_count": 5,
   "id": "interstate-bonus",
   "metadata": {},
   "outputs": [],
   "source": [
    "condition = {\n",
    "    'terms': {\n",
    "        '$exists': True, \n",
    "        '$not': {'$size': 0}\n",
    "    }\n",
    "}\n",
    "\n",
    "projection = {'_id': 0, 'url': 1, 'terms': 1, 'title': 1, 'description': 1}\n",
    "\n",
    "cursor1 = webpages.find(\n",
    "    condition,\n",
    "    projection, \n",
    "    hint='url_1'\n",
    ")"
   ]
  },
  {
   "cell_type": "code",
   "execution_count": 6,
   "id": "matched-senator",
   "metadata": {},
   "outputs": [],
   "source": [
    "all_webpages = []\n",
    "for x in cursor1:\n",
    "    all_webpages.append(x)"
   ]
  },
  {
   "cell_type": "code",
   "execution_count": 7,
   "id": "auburn-bulgarian",
   "metadata": {},
   "outputs": [],
   "source": [
    "n_webpages = len(all_webpages)"
   ]
  },
  {
   "cell_type": "code",
   "execution_count": 8,
   "id": "outstanding-terrorism",
   "metadata": {},
   "outputs": [
    {
     "data": {
      "text/plain": [
       "4011"
      ]
     },
     "execution_count": 8,
     "metadata": {},
     "output_type": "execute_result"
    }
   ],
   "source": [
    "n_webpages"
   ]
  },
  {
   "cell_type": "code",
   "execution_count": 9,
   "id": "lined-handy",
   "metadata": {},
   "outputs": [],
   "source": [
    "from tqdm import tqdm"
   ]
  },
  {
   "cell_type": "code",
   "execution_count": 10,
   "id": "spread-separate",
   "metadata": {},
   "outputs": [
    {
     "name": "stderr",
     "output_type": "stream",
     "text": [
      "100%|██████████| 4011/4011 [00:02<00:00, 1407.94it/s]\n"
     ]
    }
   ],
   "source": [
    "vocabulary = dict()\n",
    "term_indexes = []\n",
    "indptr = [0]\n",
    "for webpage in tqdm(all_webpages):\n",
    "    for term in webpage['terms']:\n",
    "        if term in vocabulary:\n",
    "            term_indexes.append(vocabulary[term])\n",
    "        else:\n",
    "            term_index = len(vocabulary)\n",
    "            vocabulary[term] = term_index\n",
    "            term_indexes.append(term_index)\n",
    "    indptr.append(len(term_indexes))"
   ]
  },
  {
   "cell_type": "code",
   "execution_count": 11,
   "id": "floral-prince",
   "metadata": {},
   "outputs": [],
   "source": [
    "data = np.ones(len(term_indexes))"
   ]
  },
  {
   "cell_type": "code",
   "execution_count": 12,
   "id": "informational-field",
   "metadata": {},
   "outputs": [],
   "source": [
    "term_document_matrix = sparse.csr_matrix((data, term_indexes, indptr,))"
   ]
  },
  {
   "cell_type": "code",
   "execution_count": 13,
   "id": "fabulous-thompson",
   "metadata": {},
   "outputs": [
    {
     "data": {
      "text/plain": [
       "(4011, 209944)"
      ]
     },
     "execution_count": 13,
     "metadata": {},
     "output_type": "execute_result"
    }
   ],
   "source": [
    "term_document_matrix.shape"
   ]
  },
  {
   "cell_type": "code",
   "execution_count": 15,
   "id": "precious-viewer",
   "metadata": {},
   "outputs": [],
   "source": [
    "k = min(term_document_matrix.shape) - 1\n",
    "k = 50\n",
    "u, sigma, vh = svds(term_document_matrix, k=k)"
   ]
  },
  {
   "cell_type": "code",
   "execution_count": 16,
   "id": "accurate-nickel",
   "metadata": {},
   "outputs": [],
   "source": [
    "webs = pd.DataFrame(all_webpages)"
   ]
  },
  {
   "cell_type": "code",
   "execution_count": 18,
   "id": "parental-vampire",
   "metadata": {},
   "outputs": [],
   "source": [
    "searcher = Searcher(u, sigma, vh, vocabulary, webs)"
   ]
  },
  {
   "cell_type": "code",
   "execution_count": 20,
   "id": "cooperative-cemetery",
   "metadata": {},
   "outputs": [],
   "source": [
    "# searcher.query('Java')"
   ]
  },
  {
   "cell_type": "code",
   "execution_count": 22,
   "id": "amber-naples",
   "metadata": {},
   "outputs": [],
   "source": [
    "# svd_filename = 'searcher_svds.npz'\n",
    "# vocabulary_filename = 'vocabulary.gz'\n",
    "# web_table_filename = 'web.csv'\n",
    "# searcher.save(svd_filename, vocabulary_filename, web_table_filename)"
   ]
  },
  {
   "cell_type": "code",
   "execution_count": null,
   "id": "adapted-qualification",
   "metadata": {},
   "outputs": [],
   "source": []
  }
 ],
 "metadata": {
  "kernelspec": {
   "display_name": "Python 3",
   "language": "python",
   "name": "python3"
  },
  "language_info": {
   "codemirror_mode": {
    "name": "ipython",
    "version": 3
   },
   "file_extension": ".py",
   "mimetype": "text/x-python",
   "name": "python",
   "nbconvert_exporter": "python",
   "pygments_lexer": "ipython3",
   "version": "3.8.7"
  }
 },
 "nbformat": 4,
 "nbformat_minor": 5
}
